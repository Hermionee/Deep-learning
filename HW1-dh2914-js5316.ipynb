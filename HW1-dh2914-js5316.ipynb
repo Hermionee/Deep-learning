{
  "nbformat": 4,
  "nbformat_minor": 0,
  "metadata": {
    "colab": {
      "name": "cnn.ipynb",
      "version": "0.3.2",
      "provenance": [],
      "collapsed_sections": []
    },
    "kernelspec": {
      "name": "python3",
      "display_name": "Python 3"
    },
    "accelerator": "GPU"
  },
  "cells": [
    {
      "metadata": {
        "id": "jpQEqlqnAR2Z",
        "colab_type": "text"
      },
      "cell_type": "markdown",
      "source": [
        "# **Deep Learning Assignment 1**\n",
        "\n",
        "Danyang He (dh2914)\n",
        "\n",
        "Jian Song (js5316)"
      ]
    },
    {
      "metadata": {
        "id": "YjKfI3SoAVmf",
        "colab_type": "text"
      },
      "cell_type": "markdown",
      "source": [
        "**Problem 1 Fully connected network from scratch**"
      ]
    },
    {
      "metadata": {
        "id": "FNtS1wj19SGa",
        "colab_type": "code",
        "colab": {
          "base_uri": "https://localhost:8080/",
          "height": 51
        },
        "outputId": "09a50406-c437-43da-f6b3-219e2cb93561"
      },
      "cell_type": "code",
      "source": [
        "\n",
        "import torch, torchvision\n",
        "\n",
        "transform = torchvision.transforms.Compose(\n",
        "    [torchvision.transforms.ToTensor(),torchvision.transforms.Normalize((0.5, 0.5, 0.5), (0.5, 0.5, 0.5))])\n",
        "\n",
        "trainset = torchvision.datasets.CIFAR10(root='./data', train=True,download=True, transform=transform)\n",
        "testset = torchvision.datasets.CIFAR10(root='./data', train=False,download=True, transform=transform)\n",
        "import numpy as np\n",
        "epsilon = 1e-8\n"
      ],
      "execution_count": 7,
      "outputs": [
        {
          "output_type": "stream",
          "text": [
            "Files already downloaded and verified\n",
            "Files already downloaded and verified\n"
          ],
          "name": "stdout"
        }
      ]
    },
    {
      "metadata": {
        "id": "DqILu6H4qPUK",
        "colab_type": "code",
        "colab": {}
      },
      "cell_type": "code",
      "source": [
        "\n",
        "class NeuralNetwork:\n",
        "    def __init__(self, X, l, dimensions, alpha, beta=0.9, drop=0):\n",
        "        self.layers = l\n",
        "        self.A = []  # Output of each layer (0, 1, ..., self.layers -1 )\n",
        "        self.Z = []  # Input of each layer (X, self.A[0:-2])\n",
        "        self.w = []  # Weight (0, 1, ..., self.layers - 1)\n",
        "        self.b = []  # Bias (0, 1, ..., self.layers - 1)\n",
        "        self.drop = drop\n",
        "        self.M = []  # List of dropout mask\n",
        "        self.alpha = alpha  # learning rate\n",
        "        self.vw = [] # parameter for momentum\n",
        "        self.vb = [] # parameter for momentum\n",
        "        self.beta = beta # parameter for momentum, usually 0.9\n",
        "        for i in range(l):\n",
        "            if i == 0:\n",
        "                self.w.append(np.random.randn(X.shape[1], dimensions[i]) * np.sqrt(2 / (X.shape[1] + dimensions[i])))\n",
        "                self.vw.append(np.zeros((X.shape[1], dimensions[i])))\n",
        "            else:\n",
        "                self.w.append(np.random.randn(dimensions[i - 1], dimensions[i]) * np.sqrt(2 / (dimensions[i - 1] + dimensions[i])))\n",
        "                self.vw.append(np.zeros((dimensions[i - 1], dimensions[i])))\n",
        "            self.b.append(np.zeros((1, dimensions[i])))\n",
        "            self.vb.append(np.zeros((1, dimensions[i])))\n",
        "        self.bn_params = {'running_mean': np.zeros(self.layers), 'running_var': np.zeros(self.layers), 'momentum': 0.9,\n",
        "                          'eps': 1e-7}\n",
        "\n",
        "    def affineForward(self, A, W, b):\n",
        "        \"\"\"\n",
        "        :param A: input matrix of a layer\n",
        "        :param W: weight matrix\n",
        "        :param b: bias\n",
        "        :returns: result of affine\n",
        "        \"\"\"\n",
        "        return np.dot(A, W) + b\n",
        "\n",
        "    def activationForward(self, Z):\n",
        "        \"\"\"\n",
        "        :param Z: result after affine\n",
        "        :returns: A\n",
        "            WHERE\n",
        "            A is matrix after applying relu\n",
        "        \"\"\"\n",
        "        A = np.maximum(0, Z)\n",
        "        return A\n",
        "\n",
        "    def dropout(self, A, prob):\n",
        "        \"\"\"\n",
        "        :param A: output value needs to do dropout\n",
        "        :param prob: drop probability\n",
        "        :returns: tuple (A, M)\n",
        "            WHERE\n",
        "            A is matrix after applying dropout\n",
        "            M is dropout mask, will be used in the backward pass\n",
        "        \"\"\"\n",
        "        M = np.random.uniform(size=A.shape)\n",
        "        M = (M > prob) / (1 - prob)\n",
        "        A = A * M\n",
        "        return A, M\n",
        "\n",
        "    def forwardPropagation(self, X):\n",
        "        \"\"\"\n",
        "        :param X: input matrix\n",
        "        :returns: Final output matrix (batch_size * num_classes), each row is a probability measure after softmax transformation\n",
        "        For each layer except the last one, do affineforward and activationforward, append linear result and relu result to list self.Z and self.A respectively. And apply dropout at each output.\n",
        "        In last layer, don't do relu, just do stable softmax \n",
        "        \"\"\"\n",
        "        y = X\n",
        "        for i in range(self.layers):\n",
        "            y = self.affineForward(y, self.w[i], self.b[i])\n",
        "            self.Z.append(y)\n",
        "            if i == self.layers - 1:\n",
        "                y -= np.amax(y, axis=1).reshape(y.shape[0], 1)\n",
        "                self.A.append(np.exp(y) / (np.sum(np.exp(y), axis=1).reshape(y.shape[0], 1)))\n",
        "            else:\n",
        "                # y = self.batchnorm_for_train(y, 0.2, 1, i, self.bn_params)\n",
        "                y = self.activationForward(y)\n",
        "                if self.drop > 0:\n",
        "                    y, m = self.dropout(y, self.drop)\n",
        "                    self.M.append(m)\n",
        "                self.A.append(y)\n",
        "        return np.exp(y) / (np.sum(np.exp(y), axis=1).reshape(y.shape[0], 1))\n",
        "\n",
        "    # forwardpropagation for test : no dropout\n",
        "    def forwardPropagation_test(self, X):\n",
        "        y = X\n",
        "        for i in range(self.layers):\n",
        "            y = self.affineForward(y, self.w[i], self.b[i])\n",
        "            if i == self.layers - 1:\n",
        "                y -= np.amax(y, axis=1).reshape(y.shape[0], 1)\n",
        "            else:\n",
        "                # y = self.batchnorm_for_test(y, 0.2, 1, i, self.bn_params)\n",
        "                y = self.activationForward(y)\n",
        "        return np.exp(y) / np.sum(np.exp(y), axis=1).reshape(y.shape[0], 1)\n",
        "\n",
        "    # calculate cross entropy\n",
        "    def costFunction(self, y_train, y):\n",
        "        log_likelihood = -np.log(y[range(y_train.shape[0]), y_train.reshape(y.shape[0], 1)])\n",
        "        loss = np.sum(log_likelihood) / y_train.shape[1]\n",
        "        return loss\n",
        "\n",
        "    def affineBackward(self, dA_prev, A, w):\n",
        "        \"\"\"\n",
        "        :param dA_prev: total derivative wrt to current Z\n",
        "        :param A: non-linear output after previous layer\n",
        "        :param w: weight matrix of previous affineforward\n",
        "        :returns: dw, db, dAL\n",
        "            WHERE dAL is the total derivative wrt to previous A\n",
        "        \"\"\"\n",
        "        batch_size = dA_prev.shape[0]\n",
        "        dAL = np.dot(dA_prev, w.T)\n",
        "        dw = np.dot(A.T, dA_prev) / batch_size\n",
        "        db = np.sum(dA_prev, axis=0) / batch_size\n",
        "        return dAL, dw, db\n",
        "\n",
        "    def activationBackward(self, Z, dA_prev):\n",
        "        \"\"\"\n",
        "        :param X: input matrix\n",
        "        :returns: Final output matrix (batch_size * num_classes), each row is a probability measure after softmax transformation\n",
        "        For each layer except the last one, do affineforward and activationforward, append linear result and relu result to list self.Z and self.A respectively. And apply dropout at each output.\n",
        "        In last layer, don't do relu, just do stable softmax \n",
        "        \"\"\"\n",
        "        dA_prev[np.nonzero(Z < 0)] = 0\n",
        "        return dA_prev\n",
        "\n",
        "    def dropout_backward(self, dA, m):\n",
        "        \"\"\"\n",
        "        :param dA: previous derivative wrt to current A(not the last layer)\n",
        "        :m: dropout mask\n",
        "        :returns: derivative of dropout layer\n",
        "        \"\"\"\n",
        "        return dA * m\n",
        "\n",
        "    def backPropagation(self, dAL, X):\n",
        "        \"\"\"\n",
        "        :param dAL: initial deriviate of L wrt A in the last layer\n",
        "        :param X: input matrix\n",
        "        Update w and b in each layer using function activationBackward and affineBackward\n",
        "        \"\"\"\n",
        "        for l in range(self.layers - 1, -1, -1):\n",
        "            if self.drop > 0 and l != self.layers - 1:\n",
        "                dAL = self.dropout_backward(dAL, self.M[l])\n",
        "            if l != self.layers - 1:\n",
        "                dAL = self.activationBackward(self.Z[l], dAL)\n",
        "            if l == 0:\n",
        "                dAL, dw, db = self.affineBackward(dAL, X, self.w[0])\n",
        "            else:\n",
        "                dAL, dw, db = self.affineBackward(dAL, self.A[l - 1], self.w[l])\n",
        "\n",
        "            self.updateParameters(dw, db, self.alpha, l)\n",
        "\n",
        "    # Gradient descent with momentum\n",
        "    def updateParameters(self, dw, db, alpha, layer):\n",
        "        self.vw[layer] = self.beta * self.vw[layer] + (1 - self.beta) * dw\n",
        "        self.vb[layer] = self.beta * self.vb[layer] + (1 - self.beta) * db\n",
        "        self.w[layer] -= alpha * self.vw[layer]\n",
        "        self.b[layer] -= alpha * self.vb[layer]\n",
        "\n",
        "    def train(self, X_train, y_train, X_val, y_val, num_epochs, batch_size=128):\n",
        "        for t in range(num_epochs):\n",
        "            training_acc = 0\n",
        "            chosen = np.random.randint(X_train.shape[0], size=batch_size)\n",
        "            y_run = self.forwardPropagation(X_train[chosen,:])\n",
        "            training_loss = self.costFunction(y_train[:, chosen], y_run)\n",
        "            y_run[np.arange(batch_size), y_train[:, chosen]] -= 1\n",
        "            dAL = y_run\n",
        "            self.backPropagation(dAL, X_train[chosen,:])\n",
        "            self.clear()\n",
        "            y_train_predict = self.predict(X_train)\n",
        "            training_acc = np.mean(y_train_predict == y_train)\n",
        "            y_result = self.predict(X_val)\n",
        "            if t % 100 == 0:\n",
        "              print(\"Iterations: \"+ str(t) + \": Training loss: {:.5}\".format(training_loss) + \" | Training accuracy: {:.5}\".format(training_acc) + \" | Validation accuracy: {:.5}\".format(np.mean(y_result == y_val)))\n",
        "\n",
        "        return training_loss / batch_size\n",
        "\n",
        "    def predict(self, X_new):\n",
        "        y = self.forwardPropagation_test(X_new)\n",
        "        return np.argmax(y, axis=1)\n",
        "\n",
        "    def clear(self):\n",
        "        self.A = []\n",
        "        self.Z = []\n",
        "        self.M = []\n",
        "\n"
      ],
      "execution_count": 0,
      "outputs": []
    },
    {
      "metadata": {
        "id": "1taPQVjKqQ5R",
        "colab_type": "code",
        "colab": {}
      },
      "cell_type": "code",
      "source": [
        "import operator\n",
        "import functools\n",
        "\n",
        "d = functools.reduce(operator.mul, list(trainset[0][0].size()), 1)\n",
        "X_train = np.zeros((len(trainset), d))\n",
        "y_train = np.zeros((1, len(trainset)))\n",
        "for i in range(len(trainset)):\n",
        "    pixel = trainset[i][0].numpy()\n",
        "    X_train[i, :] = pixel.flatten()\n",
        "    y_train[0][i] = trainset[i][1]"
      ],
      "execution_count": 0,
      "outputs": []
    },
    {
      "metadata": {
        "id": "8dM8gK-pLLbJ",
        "colab_type": "code",
        "colab": {}
      },
      "cell_type": "code",
      "source": [
        "   # split the data into training and validation set\n",
        "   \n",
        "def split(X, y, ratio):\n",
        "    \n",
        "    indices = np.random.permutation(X.shape[0])\n",
        "    test_num = int(ratio * X.shape[0])\n",
        "    return X[indices[test_num:], :], X[indices[:test_num], :], y[:, indices[test_num:]], y[:, indices[:test_num]]\n",
        "\n"
      ],
      "execution_count": 0,
      "outputs": []
    },
    {
      "metadata": {
        "id": "Yo-TLB3cqVKp",
        "colab_type": "code",
        "colab": {
          "base_uri": "https://localhost:8080/",
          "height": 119
        },
        "outputId": "f509ffda-a4eb-45cd-e191-e64ecc98f7cc"
      },
      "cell_type": "code",
      "source": [
        "nn = NeuralNetwork(X_train, 3, [512, 256, 10], 0.01, 0.9)\n",
        "num_epochs = 500\n",
        "y_train = y_train.astype(int)\n",
        "X_train, X_val, y_train, y_val = split(X_train, y_train, 0.1)\n",
        "nn.train(X_train, y_train, X_val, y_val, num_epochs, 4500)"
      ],
      "execution_count": 10,
      "outputs": [
        {
          "output_type": "stream",
          "text": [
            "Iterations: 0: Training loss: 2.5545 | Training accuracy: 0.11722 | Validation accuracy: 0.1154\n",
            "Iterations: 100: Training loss: 2.7561 | Training accuracy: 0.31791 | Validation accuracy: 0.3176\n",
            "Iterations: 200: Training loss: 2.5535 | Training accuracy: 0.36527 | Validation accuracy: 0.3662\n",
            "Iterations: 300: Training loss: 3.4583 | Training accuracy: 0.39544 | Validation accuracy: 0.3962\n",
            "Iterations: 400: Training loss: 2.9822 | Training accuracy: 0.41276 | Validation accuracy: 0.4142\n"
          ],
          "name": "stdout"
        },
        {
          "output_type": "execute_result",
          "data": {
            "text/plain": [
              "0.0006431896023581424"
            ]
          },
          "metadata": {
            "tags": []
          },
          "execution_count": 10
        }
      ]
    },
    {
      "metadata": {
        "id": "CoEIiI_awtjk",
        "colab_type": "code",
        "colab": {
          "base_uri": "https://localhost:8080/",
          "height": 119
        },
        "outputId": "498931cb-20e3-4d88-9124-259cf15d70e4"
      },
      "cell_type": "code",
      "source": [
        "\n",
        "num_epochs = 500\n",
        "nn.train(X_train, y_train, X_val, y_val, num_epochs, 4500)"
      ],
      "execution_count": 12,
      "outputs": [
        {
          "output_type": "stream",
          "text": [
            "Iterations: 0: Training loss: 3.0952 | Training accuracy: 0.47027 | Validation accuracy: 0.4556\n",
            "Iterations: 100: Training loss: 2.4351 | Training accuracy: 0.47704 | Validation accuracy: 0.4608\n",
            "Iterations: 200: Training loss: 3.6255 | Training accuracy: 0.48264 | Validation accuracy: 0.4622\n",
            "Iterations: 300: Training loss: 3.3322 | Training accuracy: 0.48858 | Validation accuracy: 0.4646\n",
            "Iterations: 400: Training loss: 4.8675 | Training accuracy: 0.49387 | Validation accuracy: 0.4698\n"
          ],
          "name": "stdout"
        },
        {
          "output_type": "execute_result",
          "data": {
            "text/plain": [
              "0.000801560372489013"
            ]
          },
          "metadata": {
            "tags": []
          },
          "execution_count": 12
        }
      ]
    },
    {
      "metadata": {
        "id": "UelIZIsEMuXS",
        "colab_type": "code",
        "colab": {
          "base_uri": "https://localhost:8080/",
          "height": 119
        },
        "outputId": "a2b43c63-48f2-437b-ae24-75f1eb244099"
      },
      "cell_type": "code",
      "source": [
        "\n",
        "num_epochs = 500\n",
        "nn.train(X_train, y_train, X_val, y_val, num_epochs, 4500)"
      ],
      "execution_count": 13,
      "outputs": [
        {
          "output_type": "stream",
          "text": [
            "Iterations: 0: Training loss: 5.1232 | Training accuracy: 0.49896 | Validation accuracy: 0.4742\n",
            "Iterations: 100: Training loss: 3.2103 | Training accuracy: 0.50416 | Validation accuracy: 0.4796\n",
            "Iterations: 200: Training loss: 2.5239 | Training accuracy: 0.50909 | Validation accuracy: 0.483\n",
            "Iterations: 300: Training loss: 3.0364 | Training accuracy: 0.51264 | Validation accuracy: 0.485\n",
            "Iterations: 400: Training loss: 2.8885 | Training accuracy: 0.51664 | Validation accuracy: 0.4852\n"
          ],
          "name": "stdout"
        },
        {
          "output_type": "execute_result",
          "data": {
            "text/plain": [
              "0.0006139823645637087"
            ]
          },
          "metadata": {
            "tags": []
          },
          "execution_count": 13
        }
      ]
    },
    {
      "metadata": {
        "id": "Qk4vtIpCfwRG",
        "colab_type": "code",
        "colab": {
          "base_uri": "https://localhost:8080/",
          "height": 119
        },
        "outputId": "27e22710-cb5f-4961-db90-f84debf2336e"
      },
      "cell_type": "code",
      "source": [
        "\n",
        "num_epochs = 500\n",
        "nn.train(X_train, y_train, X_val, y_val, num_epochs, 4500)"
      ],
      "execution_count": 14,
      "outputs": [
        {
          "output_type": "stream",
          "text": [
            "Iterations: 0: Training loss: 3.0404 | Training accuracy: 0.52107 | Validation accuracy: 0.4894\n",
            "Iterations: 100: Training loss: 3.8179 | Training accuracy: 0.52613 | Validation accuracy: 0.4902\n",
            "Iterations: 200: Training loss: 3.7131 | Training accuracy: 0.52998 | Validation accuracy: 0.4938\n",
            "Iterations: 300: Training loss: 4.7321 | Training accuracy: 0.53404 | Validation accuracy: 0.4944\n",
            "Iterations: 400: Training loss: 2.3688 | Training accuracy: 0.53791 | Validation accuracy: 0.498\n"
          ],
          "name": "stdout"
        },
        {
          "output_type": "execute_result",
          "data": {
            "text/plain": [
              "0.000589103871267081"
            ]
          },
          "metadata": {
            "tags": []
          },
          "execution_count": 14
        }
      ]
    },
    {
      "metadata": {
        "id": "5s2HljGPxPx8",
        "colab_type": "code",
        "colab": {
          "base_uri": "https://localhost:8080/",
          "height": 119
        },
        "outputId": "4f14c99c-7504-432c-f9cf-d6dfc720d42e"
      },
      "cell_type": "code",
      "source": [
        "\n",
        "num_epochs = 500\n",
        "nn.train(X_train, y_train, X_val, y_val, num_epochs, 4500)"
      ],
      "execution_count": 15,
      "outputs": [
        {
          "output_type": "stream",
          "text": [
            "Iterations: 0: Training loss: 3.1035 | Training accuracy: 0.54202 | Validation accuracy: 0.499\n",
            "Iterations: 100: Training loss: 3.5503 | Training accuracy: 0.54622 | Validation accuracy: 0.5002\n",
            "Iterations: 200: Training loss: 2.739 | Training accuracy: 0.55056 | Validation accuracy: 0.5026\n",
            "Iterations: 300: Training loss: 3.8994 | Training accuracy: 0.55453 | Validation accuracy: 0.5038\n",
            "Iterations: 400: Training loss: 4.2156 | Training accuracy: 0.55811 | Validation accuracy: 0.505\n"
          ],
          "name": "stdout"
        },
        {
          "output_type": "execute_result",
          "data": {
            "text/plain": [
              "0.0008255766722854919"
            ]
          },
          "metadata": {
            "tags": []
          },
          "execution_count": 15
        }
      ]
    },
    {
      "metadata": {
        "id": "ccGTWP7iHe1e",
        "colab_type": "code",
        "colab": {}
      },
      "cell_type": "code",
      "source": [
        "import matplotlib.pyplot as plt\n",
        "import numpy as np\n",
        "def imshow(img):\n",
        "    img = img / 2 + 0.5# unnormalize\n",
        "    plt.imshow(np.transpose(img, (1, 2, 0)))\n",
        "    plt.show()"
      ],
      "execution_count": 0,
      "outputs": []
    },
    {
      "metadata": {
        "id": "4vQqSaxuHhks",
        "colab_type": "code",
        "colab": {}
      },
      "cell_type": "code",
      "source": [
        "X_test = np.zeros((len(testset), d))\n",
        "y_test = np.zeros((1, len(testset)))\n",
        "for i in range(len(testset)):\n",
        "    pixel = testset[i][0].numpy()\n",
        "    X_test[i, :] = pixel.flatten()\n",
        "    y_test[0][i] = testset[i][1]\n"
      ],
      "execution_count": 0,
      "outputs": []
    },
    {
      "metadata": {
        "id": "9yiGPwtdJmJ3",
        "colab_type": "code",
        "colab": {
          "base_uri": "https://localhost:8080/",
          "height": 2201
        },
        "outputId": "729e0e66-3dc5-4e78-b219-1c6dd644777b"
      },
      "cell_type": "code",
      "source": [
        "\n",
        "classes = ['airplane','automobile','bird','cat','deer','dog','frog','horse','ship','truck']\n",
        "y_result = nn.predict(X_test)\n",
        "for i in range(5, 11, 1):\n",
        "  imshow(testset[i][0])\n",
        "  print(testset[i][1], classes[testset[i][1]])\n",
        "  print(y_result[i])"
      ],
      "execution_count": 20,
      "outputs": [
        {
          "output_type": "display_data",
          "data": {
            "image/png": "[encoded data removed]",
            "text/plain": [
              "<Figure size 576x396 with 1 Axes>"
            ]
          },
          "metadata": {
            "tags": []
          }
        },
        {
          "output_type": "stream",
          "text": [
            "6 frog\n",
            "6\n"
          ],
          "name": "stdout"
        },
        {
          "output_type": "display_data",
          "data": {
            "image/png": "[encoded data removed]",
            "text/plain": [
              "<Figure size 576x396 with 1 Axes>"
            ]
          },
          "metadata": {
            "tags": []
          }
        },
        {
          "output_type": "stream",
          "text": [
            "1 automobile\n",
            "3\n"
          ],
          "name": "stdout"
        },
        {
          "output_type": "display_data",
          "data": {
            "image/png": "[encoded data removed]",
            "text/plain": [
              "<Figure size 576x396 with 1 Axes>"
            ]
          },
          "metadata": {
            "tags": []
          }
        },
        {
          "output_type": "stream",
          "text": [
            "6 frog\n",
            "6\n"
          ],
          "name": "stdout"
        },
        {
          "output_type": "display_data",
          "data": {
            "image/png": "[encoded data removed]",
            "text/plain": [
              "<Figure size 576x396 with 1 Axes>"
            ]
          },
          "metadata": {
            "tags": []
          }
        },
        {
          "output_type": "stream",
          "text": [
            "3 cat\n",
            "5\n"
          ],
          "name": "stdout"
        },
        {
          "output_type": "display_data",
          "data": {
            "image/png": "[encoded data removed]",
            "text/plain": [
              "<Figure size 576x396 with 1 Axes>"
            ]
          },
          "metadata": {
            "tags": []
          }
        },
        {
          "output_type": "stream",
          "text": [
            "1 automobile\n",
            "1\n"
          ],
          "name": "stdout"
        },
        {
          "output_type": "display_data",
          "data": {
            "image/png": "[encoded data removed]",
            "text/plain": [
              "<Figure size 576x396 with 1 Axes>"
            ]
          },
          "metadata": {
            "tags": []
          }
        },
        {
          "output_type": "stream",
          "text": [
            "0 airplane\n",
            "8\n"
          ],
          "name": "stdout"
        }
      ]
    },
    {
      "metadata": {
        "id": "jZDTYuCnK836",
        "colab_type": "text"
      },
      "cell_type": "markdown",
      "source": [
        "From the above images, we can see our model can correctly classify some images although the performance is not perfect."
      ]
    },
    {
      "metadata": {
        "id": "p0XHwwLSA_nB",
        "colab_type": "text"
      },
      "cell_type": "markdown",
      "source": [
        "**Problem 2 CNN using Pytorch**"
      ]
    },
    {
      "metadata": {
        "id": "eXBpwKAM7HhA",
        "colab_type": "text"
      },
      "cell_type": "markdown",
      "source": [
        "Here is our **baseline model.** We used two convolution layers with kernel size 5(increasing channel to 64 ), normalization layer and pool layer.  After that, we append three fully connected network. We can see the result can easily hit above 70% validation accuracy. So we cut our epochs to just 20 times."
      ]
    },
    {
      "metadata": {
        "id": "0i6qibYjbue5",
        "colab_type": "code",
        "outputId": "1f0db838-1538-4fcd-da70-e2740e1952a4",
        "colab": {
          "base_uri": "https://localhost:8080/",
          "height": 34
        }
      },
      "cell_type": "code",
      "source": [
        "import torch, torchvision\n",
        "from torch.utils.data import DataLoader\n",
        "from torchvision.transforms import transforms\n",
        "train_transformations = transforms.Compose([\n",
        "    transforms.ToTensor(),\n",
        "    transforms.Normalize((0.5,0.5,0.5), (0.5,0.5,0.5))\n",
        "])\n",
        "test_transformations = transforms.Compose([\n",
        "    transforms.ToTensor(),\n",
        "    transforms.Normalize((0.5, 0.5, 0.5), (0.5, 0.5, 0.5))\n",
        "\n",
        "])\n",
        "testset = torchvision.datasets.CIFAR10(root='./data', train=False, download=True, transform=test_transformations)\n",
        "test_loader = DataLoader(testset, batch_size=128, shuffle=False, num_workers=4)"
      ],
      "execution_count": 4,
      "outputs": [
        {
          "output_type": "stream",
          "text": [
            "Downloading https://www.cs.toronto.edu/~kriz/cifar-10-python.tar.gz to ./data/cifar-10-python.tar.gz\n"
          ],
          "name": "stdout"
        }
      ]
    },
    {
      "metadata": {
        "id": "O3Ih0UCY88KF",
        "colab_type": "code",
        "colab": {}
      },
      "cell_type": "code",
      "source": [
        ""
      ],
      "execution_count": 0,
      "outputs": []
    },
    {
      "metadata": {
        "id": "MV17bYaH7sSy",
        "colab_type": "code",
        "colab": {}
      },
      "cell_type": "code",
      "source": [
        "# Import needed packages\n",
        "import torch\n",
        "import torch.nn as nn\n",
        "\n",
        "class BaseLineNet(nn.Module):\n",
        "    def __init__(self, num_classes=10):\n",
        "        super(BaseLineNet, self).__init__()\n",
        "        \n",
        "        self.conv1 = nn.Conv2d(3, 64, 5)\n",
        "        self.norm1 = nn.BatchNorm2d(64)\n",
        "        self.relu = nn.ReLU()\n",
        "        \n",
        "        self.pool = nn.MaxPool2d(2, 2)\n",
        "        \n",
        "        \n",
        "        self.conv2 = nn.Conv2d(64, 64, 5)\n",
        "        self.norm2 = nn.BatchNorm2d(64)\n",
        "        \n",
        "        \n",
        "        self.pool = nn.MaxPool2d(2, 2)\n",
        "        \n",
        "        self.fc1 = nn.Linear(64 * 5 * 5, 120)\n",
        "        self.fc2   = nn.Linear(120, 84)\n",
        "        self.fc3   = nn.Linear(84, 10)\n",
        "\n",
        "\n",
        "    def forward(self, input):\n",
        "        output = self.conv1(input)\n",
        "        output = self.norm1(output)\n",
        "        output = self.relu(output)\n",
        "        \n",
        "        output = self.pool(output)\n",
        "        \n",
        "        output = self.conv2(output)\n",
        "        output = self.norm2(output)\n",
        "        output = self.relu(output)\n",
        "        \n",
        "        output = self.pool(output)\n",
        "        \n",
        "        output = output.view(-1, 64 * 5 * 5)\n",
        "        \n",
        "        output = self.fc1(output)\n",
        "        output = self.relu(output)\n",
        "        \n",
        "        output = self.fc2(output)\n",
        "        output = self.relu(output)\n",
        "        \n",
        "        output = self.fc3(output)\n",
        "        return output"
      ],
      "execution_count": 0,
      "outputs": []
    },
    {
      "metadata": {
        "id": "YtlmBu-b8viB",
        "colab_type": "code",
        "colab": {}
      },
      "cell_type": "code",
      "source": [
        "from torch.optim import Adam, SGD\n",
        "# Check if gpu support is available\n",
        "cuda_avail = torch.cuda.is_available()\n",
        "model = BaseLineNet(num_classes=10)\n",
        "\n",
        "#if cuda is available, move the model to the GPU\n",
        "if cuda_avail:\n",
        "    model.cuda()\n",
        "\n",
        "# using Adam is better than sgd\n",
        "optimizer = Adam(model.parameters(), lr=0.001, weight_decay=0.0001)\n",
        "loss_fn = nn.CrossEntropyLoss()"
      ],
      "execution_count": 0,
      "outputs": []
    },
    {
      "metadata": {
        "id": "QQ9906W_9DDK",
        "colab_type": "code",
        "colab": {}
      },
      "cell_type": "code",
      "source": [
        "def test(path):\n",
        "    model = SimpleNet(num_classes=10)\n",
        "    model.load_state_dict(torch.load(path))\n",
        "    model.cuda()\n",
        "    \n",
        "    model.eval()\n",
        "    test_acc = 0.0\n",
        "    for i, (images, labels) in enumerate(test_loader):\n",
        "\n",
        "        if cuda_avail:\n",
        "            images = Variable(images.cuda())\n",
        "            labels = Variable(labels.cuda())\n",
        "\n",
        "        # Predict labels using images from the test set\n",
        "        outputs = model(images)\n",
        "        _, prediction = torch.max(outputs.data, 1)\n",
        "        \n",
        "        test_acc += torch.sum(prediction == labels.data)\n",
        "        \n",
        "    # average test accuracy\n",
        "    test_acc = float(test_acc) / 10000\n",
        "    \n",
        "    return test_acc"
      ],
      "execution_count": 0,
      "outputs": []
    },
    {
      "metadata": {
        "id": "jgFmSsmX9FhM",
        "colab_type": "code",
        "colab": {}
      },
      "cell_type": "code",
      "source": [
        "\n",
        "# Automatically adjust learning rate(decrement by 10 every 30 epochs)\n",
        "def adjust_learning_rate(epoch):\n",
        "    lr = 0.001\n",
        "    \n",
        "    if epoch > 90:\n",
        "        lr = lr / 1000\n",
        "    elif epoch > 60:\n",
        "        lr = lr / 100\n",
        "    elif epoch > 30:\n",
        "        lr = lr / 10\n",
        "\n",
        "    for param_group in optimizer.param_groups:\n",
        "        param_group[\"lr\"] = lr"
      ],
      "execution_count": 0,
      "outputs": []
    },
    {
      "metadata": {
        "id": "zFzGs_-F9Hyg",
        "colab_type": "code",
        "colab": {}
      },
      "cell_type": "code",
      "source": [
        "from torch.autograd import Variable\n",
        "def train(num_epochs):\n",
        "  \n",
        "    #Create a loder for the training set\n",
        "    trainvalset = torchvision.datasets.CIFAR10(root='./data', train=True,download=True, transform=train_transformations)\n",
        "    trainset, valset = torch.utils.data.random_split(trainvalset, [45000, 5000])\n",
        "    train_loader = DataLoader(trainset, batch_size=128, shuffle=True, num_workers=4)\n",
        "    val_loader = DataLoader(valset, batch_size=128, shuffle=True, num_workers=4)\n",
        "    for epoch in range(num_epochs):\n",
        "      print('Epoch {}/{}'.format(epoch + 1, num_epochs))\n",
        "      print('-' * 100)\n",
        "      model.train()\n",
        "      train_acc = 0.0\n",
        "      train_loss = 0.0\n",
        "      val_acc = 0.0\n",
        "      val_loss = 0.0\n",
        "      for i, (images, labels) in enumerate(train_loader):\n",
        "          \n",
        "          # Move images and labels to gpu if available\n",
        "          if cuda_avail:\n",
        "              images = Variable(images.cuda())\n",
        "              labels = Variable(labels.cuda())\n",
        "\n",
        "          # Clear all accumulated gradients\n",
        "          optimizer.zero_grad()\n",
        "          # See how it performs currently on training data\n",
        "          outputs = model(images)\n",
        "          \n",
        "          loss = loss_fn(outputs, labels)\n",
        "          \n",
        "          loss.backward()\n",
        "\n",
        "          # Adjust parameters according to the computed gradients\n",
        "          optimizer.step()\n",
        "      \n",
        "          train_loss += loss.item() * images.size(0)\n",
        "          _, prediction = torch.max(outputs.data, 1)\n",
        "            \n",
        "          train_acc += torch.sum(prediction == labels.data)\n",
        "            \n",
        "      model.eval()\n",
        "      for i, (images, labels) in enumerate(val_loader):\n",
        "          if cuda_avail:\n",
        "                images = Variable(images.cuda())\n",
        "                labels = Variable(labels.cuda())\n",
        "\n",
        "          # Test on validation data\n",
        "          outputs = model(images)\n",
        "          \n",
        "          loss = loss_fn(outputs, labels)\n",
        "            \n",
        "          val_loss += loss.item() * images.size(0)\n",
        "          _, prediction = torch.max(outputs.data, 1)\n",
        "            \n",
        "          val_acc += torch.sum(prediction == labels.data)\n",
        "            \n",
        "      # Ajust learning rate \n",
        "      adjust_learning_rate(epoch)\n",
        "\n",
        "      # Compute the average acc and loss over training set and validation set\n",
        "      train_acc = float(train_acc) / 45000\n",
        "      val_acc = float(val_acc) / 5000\n",
        "      train_loss = float(train_loss) / 50000\n",
        "      val_loss = float(val_loss)/ 50000\n",
        "\n",
        "      print(\"Epoch {}, Train Accuracy: {} , Validation Accuracy: {} , TrainLoss: {} , ValiLoss: {}, \".format(epoch + 1, train_acc, val_acc, train_loss, val_loss))\n",
        "\n",
        "        "
      ],
      "execution_count": 0,
      "outputs": []
    },
    {
      "metadata": {
        "id": "m6vNOSv39Koh",
        "colab_type": "code",
        "colab": {
          "base_uri": "https://localhost:8080/",
          "height": 1074
        },
        "outputId": "e2b7d5d1-feaf-48a2-af75-d074775f0083"
      },
      "cell_type": "code",
      "source": [
        "if __name__ == \"__main__\":\n",
        "    train(20)\n",
        "    \n",
        "   "
      ],
      "execution_count": 45,
      "outputs": [
        {
          "output_type": "stream",
          "text": [
            "Files already downloaded and verified\n",
            "Epoch 1/20\n",
            "----------------------------------------------------------------------------------------------------\n",
            "Epoch 1, Train Accuracy: 0.9127111111111111 , Validation Accuracy: 0.9004 , TrainLoss: 0.2452009422326088 , ValiLoss: 0.031389060697555544, \n",
            "Epoch 2/20\n",
            "----------------------------------------------------------------------------------------------------\n",
            "Epoch 2, Train Accuracy: 0.9304222222222223 , Validation Accuracy: 0.8906 , TrainLoss: 0.1909951001763344 , ValiLoss: 0.035589414110183716, \n",
            "Epoch 3/20\n",
            "----------------------------------------------------------------------------------------------------\n",
            "Epoch 3, Train Accuracy: 0.9395555555555556 , Validation Accuracy: 0.8856 , TrainLoss: 0.16019406205177308 , ValiLoss: 0.03604602836608887, \n",
            "Epoch 4/20\n",
            "----------------------------------------------------------------------------------------------------\n",
            "Epoch 4, Train Accuracy: 0.9444444444444444 , Validation Accuracy: 0.8786 , TrainLoss: 0.14504139223575593 , ValiLoss: 0.037320351400375366, \n",
            "Epoch 5/20\n",
            "----------------------------------------------------------------------------------------------------\n",
            "Epoch 5, Train Accuracy: 0.9520666666666666 , Validation Accuracy: 0.8704 , TrainLoss: 0.12576040549993514 , ValiLoss: 0.041702987141609194, \n",
            "Epoch 6/20\n",
            "----------------------------------------------------------------------------------------------------\n",
            "Epoch 6, Train Accuracy: 0.9543555555555555 , Validation Accuracy: 0.8618 , TrainLoss: 0.11953731775283813 , ValiLoss: 0.04746468805074692, \n",
            "Epoch 7/20\n",
            "----------------------------------------------------------------------------------------------------\n",
            "Epoch 7, Train Accuracy: 0.9607111111111111 , Validation Accuracy: 0.8528 , TrainLoss: 0.1049916612291336 , ValiLoss: 0.05127507170677185, \n",
            "Epoch 8/20\n",
            "----------------------------------------------------------------------------------------------------\n",
            "Epoch 8, Train Accuracy: 0.9596444444444444 , Validation Accuracy: 0.854 , TrainLoss: 0.10492077509641648 , ValiLoss: 0.0531082826423645, \n",
            "Epoch 9/20\n",
            "----------------------------------------------------------------------------------------------------\n",
            "Epoch 9, Train Accuracy: 0.9650222222222222 , Validation Accuracy: 0.8402 , TrainLoss: 0.09080786673903465 , ValiLoss: 0.0577166423034668, \n",
            "Epoch 10/20\n",
            "----------------------------------------------------------------------------------------------------\n",
            "Epoch 10, Train Accuracy: 0.9621111111111111 , Validation Accuracy: 0.8446 , TrainLoss: 0.09725573086738587 , ValiLoss: 0.05777428669929505, \n",
            "Epoch 11/20\n",
            "----------------------------------------------------------------------------------------------------\n",
            "Epoch 11, Train Accuracy: 0.9692444444444445 , Validation Accuracy: 0.84 , TrainLoss: 0.08015917686462402 , ValiLoss: 0.06323561009407043, \n",
            "Epoch 12/20\n",
            "----------------------------------------------------------------------------------------------------\n",
            "Epoch 12, Train Accuracy: 0.9701555555555555 , Validation Accuracy: 0.8348 , TrainLoss: 0.07813886558532715 , ValiLoss: 0.06674541169166565, \n",
            "Epoch 13/20\n",
            "----------------------------------------------------------------------------------------------------\n",
            "Epoch 13, Train Accuracy: 0.9730666666666666 , Validation Accuracy: 0.8398 , TrainLoss: 0.07129402321696282 , ValiLoss: 0.06504525366783143, \n",
            "Epoch 14/20\n",
            "----------------------------------------------------------------------------------------------------\n",
            "Epoch 14, Train Accuracy: 0.9700888888888889 , Validation Accuracy: 0.8332 , TrainLoss: 0.07753477551460267 , ValiLoss: 0.06541642250061035, \n",
            "Epoch 15/20\n",
            "----------------------------------------------------------------------------------------------------\n",
            "Epoch 15, Train Accuracy: 0.9706666666666667 , Validation Accuracy: 0.8414 , TrainLoss: 0.0740133689069748 , ValiLoss: 0.06382224383592605, \n",
            "Epoch 16/20\n",
            "----------------------------------------------------------------------------------------------------\n",
            "Epoch 16, Train Accuracy: 0.9733777777777778 , Validation Accuracy: 0.8376 , TrainLoss: 0.07031369977474212 , ValiLoss: 0.06705869938850403, \n",
            "Epoch 17/20\n",
            "----------------------------------------------------------------------------------------------------\n",
            "Epoch 17, Train Accuracy: 0.9716666666666667 , Validation Accuracy: 0.8212 , TrainLoss: 0.07277189149141311 , ValiLoss: 0.07770961345672607, \n",
            "Epoch 18/20\n",
            "----------------------------------------------------------------------------------------------------\n",
            "Epoch 18, Train Accuracy: 0.9749333333333333 , Validation Accuracy: 0.835 , TrainLoss: 0.06496757088303566 , ValiLoss: 0.07198690641403198, \n",
            "Epoch 19/20\n",
            "----------------------------------------------------------------------------------------------------\n",
            "Epoch 19, Train Accuracy: 0.9758666666666667 , Validation Accuracy: 0.8152 , TrainLoss: 0.06195845532655716 , ValiLoss: 0.07896477403640748, \n",
            "Epoch 20/20\n",
            "----------------------------------------------------------------------------------------------------\n",
            "Epoch 20, Train Accuracy: 0.9746 , Validation Accuracy: 0.8232 , TrainLoss: 0.06890759603977203 , ValiLoss: 0.07922772901535034, \n"
          ],
          "name": "stdout"
        }
      ]
    },
    {
      "metadata": {
        "id": "2b0bgLT_aFhR",
        "colab_type": "text"
      },
      "cell_type": "markdown",
      "source": [
        "We tried to build a network that contains 4 convolution layers, each with one normalization layer and three fully connected layers. After the second and the fourth convolution layer, we add dropout layer. And after the final fully connected layer, we use softmax to transform the output into probability space. Details are commented in the code. The result for this architecture was good, training accuracy hitting 90.4% and validation accuracy easily staying higher than 70%(at around 72% on average). (but it was hard for validation accuracy to go higher)"
      ]
    },
    {
      "metadata": {
        "id": "cssmwd53bvTf",
        "colab_type": "code",
        "colab": {}
      },
      "cell_type": "code",
      "source": [
        "\n",
        "# Import needed packages\n",
        "import torch\n",
        "import torch.nn as nn\n",
        "\n",
        "\n",
        "class SimpleNet(nn.Module):\n",
        "    def __init__(self, num_classes=10):\n",
        "        super(SimpleNet, self).__init__()\n",
        "        \n",
        "        # increase channel to 32 : 3 * 32 * 32 -> 32 * 32 * 32\n",
        "        self.conv1 = nn.Conv2d(3, 32, 3, padding=1)\n",
        "        self.norm = nn.BatchNorm2d(32)\n",
        "        self.relu = nn.ReLU()\n",
        "    \n",
        "        # half the image size: 32 * 32 * 32 -> 32 * 16 * 16\n",
        "        self.pool = nn.MaxPool2d(kernel_size=2)\n",
        "        \n",
        "        # increase channel to 64: 32 * 16 * 16 -> 64 * 16 * 16\n",
        "        self.conv2 = nn.Conv2d(32, 64, 3, padding=1)\n",
        "        self.norm2 = nn.BatchNorm2d(64)\n",
        "        self.relu = nn.ReLU()\n",
        "        \n",
        "        # half the image size: 64 * 16 * 16 -> 64 * 8 * 8\n",
        "        self.pool2 = nn.MaxPool2d(kernel_size=2)\n",
        "\n",
        "        # increase channel to 128: 64 * 8 * 8 -> 128 * 8 * 8\n",
        "        self.conv3 = nn.Conv2d(64, 128, 3, padding=1)\n",
        "        self.norm3 = nn.BatchNorm2d(128)\n",
        "        self.relu = nn.ReLU()\n",
        "        \n",
        "        # half the image size: 128 * 8 * 8 -> 128 * 4 * 4\n",
        "        self.pool3 = nn.MaxPool2d(kernel_size=2)\n",
        "\n",
        "        # increase channel to 128: 128 * 4 * 4 -> 256 * 4 * 4\n",
        "        self.conv4 = nn.Conv2d(128, 256, 3, padding=1)\n",
        "        self.norm4 = nn.BatchNorm2d(256)\n",
        "        self.relu = nn.ReLU()\n",
        "        \n",
        "        \n",
        "        self.dropout = nn.Dropout(0.5)  # drop 50% of the neuron\n",
        "        \n",
        "        self.fc1 = nn.Linear(in_features=8 * 8 * 64, out_features=128)\n",
        "        self.fc2 = nn.Linear(in_features=128, out_features=64)\n",
        "        self.fc3 = nn.Linear(in_features=64, out_features=10)\n",
        "        self.softmax = nn.Softmax(dim=1)\n",
        "        \n",
        "        setattr(self, 'final', self.norm)\n",
        "        setattr(self, 'final2', self.norm2)\n",
        "        setattr(self, 'final3', self.norm3)\n",
        "        setattr(self, 'final4', self.norm4)\n",
        "\n",
        "    def forward(self, input):\n",
        "        output = self.conv1(input)\n",
        "        output = self.norm(output)\n",
        "        output = self.relu(output)\n",
        "\n",
        "        output = self.pool(output)\n",
        "        \n",
        "        output = self.conv2(output)\n",
        "        output = self.norm2(output)\n",
        "        output = self.relu(output)\n",
        "        output = self.dropout(output)\n",
        "\n",
        "        output = self.pool2(output)\n",
        "        \n",
        "        output = self.conv3(output)\n",
        "        output = self.norm3(output)\n",
        "        output = self.relu(output)\n",
        "\n",
        "        output = self.pool3(output)\n",
        "        \n",
        "        output = self.conv4(output)\n",
        "        output = self.norm4(output)\n",
        "        output = self.relu(output)\n",
        "        output = self.dropout(output)\n",
        "\n",
        "        # reshape the input for the linear neuron\n",
        "        output = output.view(-1, 8 * 8 * 64)\n",
        "\n",
        "        output = self.fc1(output)\n",
        "        output = self.relu(output)\n",
        "        output = self.fc2(output)\n",
        "        output = self.relu(output)\n",
        "        output = self.fc3(output)\n",
        "        output = self.softmax(output)\n",
        "        return output"
      ],
      "execution_count": 0,
      "outputs": []
    },
    {
      "metadata": {
        "id": "gPYceRSBbz2C",
        "colab_type": "code",
        "colab": {}
      },
      "cell_type": "code",
      "source": [
        "from torch.optim import Adam, SGD\n",
        "# Check if gpu support is available\n",
        "cuda_avail = torch.cuda.is_available()\n",
        "model = SimpleNet(num_classes=10)\n",
        "\n",
        "#if cuda is available, move the model to the GPU\n",
        "if cuda_avail:\n",
        "    model.cuda()\n",
        "\n",
        "# using Adam is better than sgd\n",
        "optimizer = Adam(model.parameters(), lr=0.001, weight_decay=0.0001)\n",
        "loss_fn = nn.CrossEntropyLoss()"
      ],
      "execution_count": 0,
      "outputs": []
    },
    {
      "metadata": {
        "id": "0HrGNJ-5b52W",
        "colab_type": "code",
        "colab": {}
      },
      "cell_type": "code",
      "source": [
        "def test(path):\n",
        "    model = SimpleNet(num_classes=10)\n",
        "    model.load_state_dict(torch.load(path))\n",
        "    model.cuda()\n",
        "    \n",
        "    model.eval()\n",
        "    test_acc = 0.0\n",
        "    for i, (images, labels) in enumerate(test_loader):\n",
        "\n",
        "        if cuda_avail:\n",
        "            images = Variable(images.cuda())\n",
        "            labels = Variable(labels.cuda())\n",
        "\n",
        "        # Predict labels using images from the test set\n",
        "        outputs = model(images)\n",
        "        _, prediction = torch.max(outputs.data, 1)\n",
        "        \n",
        "        test_acc += torch.sum(prediction == labels.data)\n",
        "        \n",
        "    # average test accuracy\n",
        "    test_acc = float(test_acc) / 10000\n",
        "    \n",
        "    return test_acc"
      ],
      "execution_count": 0,
      "outputs": []
    },
    {
      "metadata": {
        "id": "2IVok8NIb37e",
        "colab_type": "code",
        "colab": {}
      },
      "cell_type": "code",
      "source": [
        "\n",
        "# Automatically adjust learning rate(decrement by 10 every 30 epochs)\n",
        "def adjust_learning_rate(epoch):\n",
        "    lr = 0.001\n",
        "    \n",
        "    if epoch > 90:\n",
        "        lr = lr / 1000\n",
        "    elif epoch > 60:\n",
        "        lr = lr / 100\n",
        "    elif epoch > 30:\n",
        "        lr = lr / 10\n",
        "\n",
        "    for param_group in optimizer.param_groups:\n",
        "        param_group[\"lr\"] = lr"
      ],
      "execution_count": 0,
      "outputs": []
    },
    {
      "metadata": {
        "id": "WiWIQJ7Wb8Nx",
        "colab_type": "code",
        "colab": {}
      },
      "cell_type": "code",
      "source": [
        "from torch.autograd import Variable\n",
        "def train(num_epochs):\n",
        "  \n",
        "    #Create a loder for the training set\n",
        "    trainvalset = torchvision.datasets.CIFAR10(root='./data', train=True,download=True, transform=train_transformations)\n",
        "    trainset, valset = torch.utils.data.random_split(trainvalset, [45000, 5000])\n",
        "    train_loader = DataLoader(trainset, batch_size=128, shuffle=True, num_workers=4)\n",
        "    val_loader = DataLoader(valset, batch_size=128, shuffle=True, num_workers=4)\n",
        "    for epoch in range(num_epochs):\n",
        "      print('Epoch {}/{}'.format(epoch + 1, num_epochs))\n",
        "      print('-' * 100)\n",
        "      model.train()\n",
        "      train_acc = 0.0\n",
        "      train_loss = 0.0\n",
        "      val_acc = 0.0\n",
        "      val_loss = 0.0\n",
        "      for i, (images, labels) in enumerate(train_loader):\n",
        "          \n",
        "          # Move images and labels to gpu if available\n",
        "          if cuda_avail:\n",
        "              images = Variable(images.cuda())\n",
        "              labels = Variable(labels.cuda())\n",
        "\n",
        "          # Clear all accumulated gradients\n",
        "          optimizer.zero_grad()\n",
        "          # See how it performs currently on training data\n",
        "          outputs = model(images)\n",
        "          \n",
        "          loss = loss_fn(outputs, labels)\n",
        "          \n",
        "          loss.backward()\n",
        "\n",
        "          # Adjust parameters according to the computed gradients\n",
        "          optimizer.step()\n",
        "      \n",
        "          train_loss += loss.item() * images.size(0)\n",
        "          _, prediction = torch.max(outputs.data, 1)\n",
        "            \n",
        "          train_acc += torch.sum(prediction == labels.data)\n",
        "            \n",
        "      model.eval()\n",
        "      for i, (images, labels) in enumerate(val_loader):\n",
        "          if cuda_avail:\n",
        "                images = Variable(images.cuda())\n",
        "                labels = Variable(labels.cuda())\n",
        "\n",
        "          # Test on validation data\n",
        "          outputs = model(images)\n",
        "          \n",
        "          loss = loss_fn(outputs, labels)\n",
        "            \n",
        "          val_loss += loss.item() * images.size(0)\n",
        "          _, prediction = torch.max(outputs.data, 1)\n",
        "            \n",
        "          val_acc += torch.sum(prediction == labels.data)\n",
        "            \n",
        "      # Ajust learning rate \n",
        "      adjust_learning_rate(epoch)\n",
        "\n",
        "      # Compute the average acc and loss over training set and validation set\n",
        "      train_acc = float(train_acc) / 45000\n",
        "      val_acc = float(val_acc) / 5000\n",
        "      train_loss = float(train_loss) / 50000\n",
        "      val_loss = float(val_loss)/ 50000\n",
        "\n",
        "      print(\"Epoch {}, Train Accuracy: {} , Validation Accuracy: {} , TrainLoss: {} , ValiLoss: {}, \".format(epoch + 1, train_acc, val_acc, train_loss, val_loss))\n",
        "\n",
        "        "
      ],
      "execution_count": 0,
      "outputs": []
    },
    {
      "metadata": {
        "id": "vQmaMcm_b-gm",
        "colab_type": "code",
        "outputId": "199c3987-6205-491e-e29d-f8ec7b51b6f8",
        "colab": {
          "base_uri": "https://localhost:8080/",
          "height": 5154
        }
      },
      "cell_type": "code",
      "source": [
        "if __name__ == \"__main__\":\n",
        "    train(100)\n",
        "    \n",
        "   "
      ],
      "execution_count": 14,
      "outputs": [
        {
          "output_type": "stream",
          "text": [
            "Files already downloaded and verified\n",
            "Epoch 1/100\n",
            "----------------------------------------------------------------------------------------------------\n",
            "Epoch 1, Train Accuracy: 0.4429111111111111 , Validation Accuracy: 0.2998 , TrainLoss: 1.8129285558891297 , ValiLoss: 0.21456717193603517, \n",
            "Epoch 2/100\n",
            "----------------------------------------------------------------------------------------------------\n",
            "Epoch 2, Train Accuracy: 0.5642 , Validation Accuracy: 0.3862 , TrainLoss: 1.705213528690338 , ValiLoss: 0.20670979549407958, \n",
            "Epoch 3/100\n",
            "----------------------------------------------------------------------------------------------------\n",
            "Epoch 3, Train Accuracy: 0.6099333333333333 , Validation Accuracy: 0.4384 , TrainLoss: 1.6634429684638976 , ValiLoss: 0.20181866706848145, \n",
            "Epoch 4/100\n",
            "----------------------------------------------------------------------------------------------------\n",
            "Epoch 4, Train Accuracy: 0.6428444444444444 , Validation Accuracy: 0.3946 , TrainLoss: 1.6355372506332397 , ValiLoss: 0.20606336685180665, \n",
            "Epoch 5/100\n",
            "----------------------------------------------------------------------------------------------------\n",
            "Epoch 5, Train Accuracy: 0.6568222222222222 , Validation Accuracy: 0.5462 , TrainLoss: 1.6217758965873719 , ValiLoss: 0.19103937017440795, \n",
            "Epoch 6/100\n",
            "----------------------------------------------------------------------------------------------------\n",
            "Epoch 6, Train Accuracy: 0.681 , Validation Accuracy: 0.5114 , TrainLoss: 1.6007385653114319 , ValiLoss: 0.19445824251174926, \n",
            "Epoch 7/100\n",
            "----------------------------------------------------------------------------------------------------\n",
            "Epoch 7, Train Accuracy: 0.6995111111111111 , Validation Accuracy: 0.5256 , TrainLoss: 1.5845855319404603 , ValiLoss: 0.19312850051879882, \n",
            "Epoch 8/100\n",
            "----------------------------------------------------------------------------------------------------\n",
            "Epoch 8, Train Accuracy: 0.7077333333333333 , Validation Accuracy: 0.4876 , TrainLoss: 1.5772758930397033 , ValiLoss: 0.19680409839630128, \n",
            "Epoch 9/100\n",
            "----------------------------------------------------------------------------------------------------\n",
            "Epoch 9, Train Accuracy: 0.7151777777777778 , Validation Accuracy: 0.5312 , TrainLoss: 1.570742658958435 , ValiLoss: 0.19250683403015137, \n",
            "Epoch 10/100\n",
            "----------------------------------------------------------------------------------------------------\n",
            "Epoch 10, Train Accuracy: 0.7269333333333333 , Validation Accuracy: 0.5932 , TrainLoss: 1.5598915871429444 , ValiLoss: 0.18650420108795165, \n",
            "Epoch 11/100\n",
            "----------------------------------------------------------------------------------------------------\n",
            "Epoch 11, Train Accuracy: 0.7327333333333333 , Validation Accuracy: 0.5716 , TrainLoss: 1.5548504803276062 , ValiLoss: 0.1885080739593506, \n",
            "Epoch 12/100\n",
            "----------------------------------------------------------------------------------------------------\n",
            "Epoch 12, Train Accuracy: 0.7360888888888889 , Validation Accuracy: 0.5746 , TrainLoss: 1.5516582794189453 , ValiLoss: 0.18794060039520263, \n",
            "Epoch 13/100\n",
            "----------------------------------------------------------------------------------------------------\n",
            "Epoch 13, Train Accuracy: 0.7483777777777778 , Validation Accuracy: 0.6408 , TrainLoss: 1.5400975234222412 , ValiLoss: 0.1815028547668457, \n",
            "Epoch 14/100\n",
            "----------------------------------------------------------------------------------------------------\n",
            "Epoch 14, Train Accuracy: 0.7525333333333334 , Validation Accuracy: 0.5536 , TrainLoss: 1.5369757701873779 , ValiLoss: 0.19047042015075683, \n",
            "Epoch 15/100\n",
            "----------------------------------------------------------------------------------------------------\n",
            "Epoch 15, Train Accuracy: 0.7609777777777778 , Validation Accuracy: 0.6228 , TrainLoss: 1.529660047492981 , ValiLoss: 0.18336059257507326, \n",
            "Epoch 16/100\n",
            "----------------------------------------------------------------------------------------------------\n",
            "Epoch 16, Train Accuracy: 0.7619111111111111 , Validation Accuracy: 0.6136 , TrainLoss: 1.5289994556427002 , ValiLoss: 0.184578949508667, \n",
            "Epoch 17/100\n",
            "----------------------------------------------------------------------------------------------------\n",
            "Epoch 17, Train Accuracy: 0.7634444444444445 , Validation Accuracy: 0.5942 , TrainLoss: 1.5269361330413818 , ValiLoss: 0.18649492954254152, \n",
            "Epoch 18/100\n",
            "----------------------------------------------------------------------------------------------------\n",
            "Epoch 18, Train Accuracy: 0.7717555555555555 , Validation Accuracy: 0.6636 , TrainLoss: 1.519671954574585 , ValiLoss: 0.17991175582885743, \n",
            "Epoch 19/100\n",
            "----------------------------------------------------------------------------------------------------\n",
            "Epoch 19, Train Accuracy: 0.7760888888888889 , Validation Accuracy: 0.6762 , TrainLoss: 1.5158860976028443 , ValiLoss: 0.17837386837005614, \n",
            "Epoch 20/100\n",
            "----------------------------------------------------------------------------------------------------\n",
            "Epoch 20, Train Accuracy: 0.7832666666666667 , Validation Accuracy: 0.6768 , TrainLoss: 1.5103485332489013 , ValiLoss: 0.17829873943328858, \n",
            "Epoch 21/100\n",
            "----------------------------------------------------------------------------------------------------\n",
            "Epoch 21, Train Accuracy: 0.7813333333333333 , Validation Accuracy: 0.6112 , TrainLoss: 1.511788133239746 , ValiLoss: 0.18473730081558226, \n",
            "Epoch 22/100\n",
            "----------------------------------------------------------------------------------------------------\n",
            "Epoch 22, Train Accuracy: 0.7845777777777778 , Validation Accuracy: 0.666 , TrainLoss: 1.5086323030853273 , ValiLoss: 0.17932039197921754, \n",
            "Epoch 23/100\n",
            "----------------------------------------------------------------------------------------------------\n",
            "Epoch 23, Train Accuracy: 0.7923777777777777 , Validation Accuracy: 0.6152 , TrainLoss: 1.5018243432617187 , ValiLoss: 0.184348848361969, \n",
            "Epoch 24/100\n",
            "----------------------------------------------------------------------------------------------------\n",
            "Epoch 24, Train Accuracy: 0.7915333333333333 , Validation Accuracy: 0.6052 , TrainLoss: 1.5025814311027528 , ValiLoss: 0.18517381141662598, \n",
            "Epoch 25/100\n",
            "----------------------------------------------------------------------------------------------------\n",
            "Epoch 25, Train Accuracy: 0.7971333333333334 , Validation Accuracy: 0.605 , TrainLoss: 1.4972518507385253 , ValiLoss: 0.18522532649993897, \n",
            "Epoch 26/100\n",
            "----------------------------------------------------------------------------------------------------\n",
            "Epoch 26, Train Accuracy: 0.7968666666666666 , Validation Accuracy: 0.6796 , TrainLoss: 1.4978973820495605 , ValiLoss: 0.1781015813446045, \n",
            "Epoch 27/100\n",
            "----------------------------------------------------------------------------------------------------\n",
            "Epoch 27, Train Accuracy: 0.8027777777777778 , Validation Accuracy: 0.639 , TrainLoss: 1.4919683081054687 , ValiLoss: 0.1819142444038391, \n",
            "Epoch 28/100\n",
            "----------------------------------------------------------------------------------------------------\n",
            "Epoch 28, Train Accuracy: 0.8046444444444445 , Validation Accuracy: 0.592 , TrainLoss: 1.4905578987693786 , ValiLoss: 0.18647615398406983, \n",
            "Epoch 29/100\n",
            "----------------------------------------------------------------------------------------------------\n",
            "Epoch 29, Train Accuracy: 0.8084666666666667 , Validation Accuracy: 0.6436 , TrainLoss: 1.4875908449554442 , ValiLoss: 0.18151103775024413, \n",
            "Epoch 30/100\n",
            "----------------------------------------------------------------------------------------------------\n",
            "Epoch 30, Train Accuracy: 0.8098666666666666 , Validation Accuracy: 0.7126 , TrainLoss: 1.4861300578117371 , ValiLoss: 0.1745926103591919, \n",
            "Epoch 31/100\n",
            "----------------------------------------------------------------------------------------------------\n",
            "Epoch 31, Train Accuracy: 0.8110888888888889 , Validation Accuracy: 0.687 , TrainLoss: 1.484679787425995 , ValiLoss: 0.17773190485000612, \n",
            "Epoch 32/100\n",
            "----------------------------------------------------------------------------------------------------\n",
            "Epoch 32, Train Accuracy: 0.8147777777777778 , Validation Accuracy: 0.7214 , TrainLoss: 1.4817845789337158 , ValiLoss: 0.17389961591720582, \n",
            "Epoch 33/100\n",
            "----------------------------------------------------------------------------------------------------\n",
            "Epoch 33, Train Accuracy: 0.8408444444444444 , Validation Accuracy: 0.7274 , TrainLoss: 1.4584502434539794 , ValiLoss: 0.17337164640426636, \n",
            "Epoch 34/100\n",
            "----------------------------------------------------------------------------------------------------\n",
            "Epoch 34, Train Accuracy: 0.8506888888888889 , Validation Accuracy: 0.718 , TrainLoss: 1.4496452462387086 , ValiLoss: 0.1742106002807617, \n",
            "Epoch 35/100\n",
            "----------------------------------------------------------------------------------------------------\n",
            "Epoch 35, Train Accuracy: 0.8547333333333333 , Validation Accuracy: 0.7126 , TrainLoss: 1.4458858668136596 , ValiLoss: 0.17457646810531616, \n",
            "Epoch 36/100\n",
            "----------------------------------------------------------------------------------------------------\n",
            "Epoch 36, Train Accuracy: 0.8590444444444445 , Validation Accuracy: 0.7156 , TrainLoss: 1.4425222792243957 , ValiLoss: 0.17430298177719117, \n",
            "Epoch 37/100\n",
            "----------------------------------------------------------------------------------------------------\n",
            "Epoch 37, Train Accuracy: 0.8605555555555555 , Validation Accuracy: 0.7196 , TrainLoss: 1.440782528743744 , ValiLoss: 0.17403550357818603, \n",
            "Epoch 38/100\n",
            "----------------------------------------------------------------------------------------------------\n",
            "Epoch 38, Train Accuracy: 0.8614666666666667 , Validation Accuracy: 0.7208 , TrainLoss: 1.43974859167099 , ValiLoss: 0.17379883541107177, \n",
            "Epoch 39/100\n",
            "----------------------------------------------------------------------------------------------------\n",
            "Epoch 39, Train Accuracy: 0.8652222222222222 , Validation Accuracy: 0.7062 , TrainLoss: 1.436837669696808 , ValiLoss: 0.17535755300521852, \n",
            "Epoch 40/100\n",
            "----------------------------------------------------------------------------------------------------\n",
            "Epoch 40, Train Accuracy: 0.8671555555555556 , Validation Accuracy: 0.7134 , TrainLoss: 1.4349197597503662 , ValiLoss: 0.17475097663879394, \n",
            "Epoch 41/100\n",
            "----------------------------------------------------------------------------------------------------\n",
            "Epoch 41, Train Accuracy: 0.8702888888888889 , Validation Accuracy: 0.7036 , TrainLoss: 1.4321596878814697 , ValiLoss: 0.17538771800994873, \n",
            "Epoch 42/100\n",
            "----------------------------------------------------------------------------------------------------\n",
            "Epoch 42, Train Accuracy: 0.8717111111111111 , Validation Accuracy: 0.7028 , TrainLoss: 1.430861135120392 , ValiLoss: 0.17577308460235597, \n",
            "Epoch 43/100\n",
            "----------------------------------------------------------------------------------------------------\n",
            "Epoch 43, Train Accuracy: 0.8713111111111111 , Validation Accuracy: 0.7118 , TrainLoss: 1.4310854920005798 , ValiLoss: 0.17483253343582153, \n",
            "Epoch 44/100\n",
            "----------------------------------------------------------------------------------------------------\n",
            "Epoch 44, Train Accuracy: 0.8752888888888889 , Validation Accuracy: 0.7154 , TrainLoss: 1.4282983959579467 , ValiLoss: 0.1743648684692383, \n",
            "Epoch 45/100\n",
            "----------------------------------------------------------------------------------------------------\n",
            "Epoch 45, Train Accuracy: 0.8753111111111112 , Validation Accuracy: 0.707 , TrainLoss: 1.427873079586029 , ValiLoss: 0.17516259140014648, \n",
            "Epoch 46/100\n",
            "----------------------------------------------------------------------------------------------------\n",
            "Epoch 46, Train Accuracy: 0.8763333333333333 , Validation Accuracy: 0.7172 , TrainLoss: 1.4267349283409119 , ValiLoss: 0.1742411371612549, \n",
            "Epoch 47/100\n",
            "----------------------------------------------------------------------------------------------------\n",
            "Epoch 47, Train Accuracy: 0.8790666666666667 , Validation Accuracy: 0.7096 , TrainLoss: 1.4245932270240784 , ValiLoss: 0.17485128761291505, \n",
            "Epoch 48/100\n",
            "----------------------------------------------------------------------------------------------------\n",
            "Epoch 48, Train Accuracy: 0.8794888888888889 , Validation Accuracy: 0.7104 , TrainLoss: 1.424156797733307 , ValiLoss: 0.17491904287338256, \n",
            "Epoch 49/100\n",
            "----------------------------------------------------------------------------------------------------\n",
            "Epoch 49, Train Accuracy: 0.8806888888888889 , Validation Accuracy: 0.7128 , TrainLoss: 1.4230716248321533 , ValiLoss: 0.17465840236663818, \n",
            "Epoch 50/100\n",
            "----------------------------------------------------------------------------------------------------\n",
            "Epoch 50, Train Accuracy: 0.8814444444444445 , Validation Accuracy: 0.7016 , TrainLoss: 1.422529593219757 , ValiLoss: 0.17569286149978638, \n",
            "Epoch 51/100\n",
            "----------------------------------------------------------------------------------------------------\n",
            "Epoch 51, Train Accuracy: 0.8842666666666666 , Validation Accuracy: 0.7032 , TrainLoss: 1.4205038274002075 , ValiLoss: 0.1755606572151184, \n",
            "Epoch 52/100\n",
            "----------------------------------------------------------------------------------------------------\n",
            "Epoch 52, Train Accuracy: 0.8854666666666666 , Validation Accuracy: 0.7136 , TrainLoss: 1.4192141909408569 , ValiLoss: 0.17446173875808715, \n",
            "Epoch 53/100\n",
            "----------------------------------------------------------------------------------------------------\n",
            "Epoch 53, Train Accuracy: 0.8851555555555556 , Validation Accuracy: 0.7 , TrainLoss: 1.4190243336868287 , ValiLoss: 0.17569262104034425, \n",
            "Epoch 54/100\n",
            "----------------------------------------------------------------------------------------------------\n",
            "Epoch 54, Train Accuracy: 0.8874222222222222 , Validation Accuracy: 0.7104 , TrainLoss: 1.4176258712005616 , ValiLoss: 0.17487512022018434, \n",
            "Epoch 55/100\n",
            "----------------------------------------------------------------------------------------------------\n",
            "Epoch 55, Train Accuracy: 0.8888222222222222 , Validation Accuracy: 0.7192 , TrainLoss: 1.41645066116333 , ValiLoss: 0.17405050439834593, \n",
            "Epoch 56/100\n",
            "----------------------------------------------------------------------------------------------------\n",
            "Epoch 56, Train Accuracy: 0.8896444444444445 , Validation Accuracy: 0.7252 , TrainLoss: 1.4154261017227172 , ValiLoss: 0.1734822939682007, \n",
            "Epoch 57/100\n",
            "----------------------------------------------------------------------------------------------------\n",
            "Epoch 57, Train Accuracy: 0.8913333333333333 , Validation Accuracy: 0.719 , TrainLoss: 1.4141966217803954 , ValiLoss: 0.17407707679748535, \n",
            "Epoch 58/100\n",
            "----------------------------------------------------------------------------------------------------\n",
            "Epoch 58, Train Accuracy: 0.8909333333333334 , Validation Accuracy: 0.7182 , TrainLoss: 1.4144639041900635 , ValiLoss: 0.17401640625, \n",
            "Epoch 59/100\n",
            "----------------------------------------------------------------------------------------------------\n",
            "Epoch 59, Train Accuracy: 0.8936222222222222 , Validation Accuracy: 0.7228 , TrainLoss: 1.4120376613998413 , ValiLoss: 0.17348987201690674, \n",
            "Epoch 60/100\n",
            "----------------------------------------------------------------------------------------------------\n",
            "Epoch 60, Train Accuracy: 0.8942 , Validation Accuracy: 0.7232 , TrainLoss: 1.4118718426513672 , ValiLoss: 0.17351669540405273, \n",
            "Epoch 61/100\n",
            "----------------------------------------------------------------------------------------------------\n",
            "Epoch 61, Train Accuracy: 0.8952888888888889 , Validation Accuracy: 0.7244 , TrainLoss: 1.410844247970581 , ValiLoss: 0.1735075707244873, \n",
            "Epoch 62/100\n",
            "----------------------------------------------------------------------------------------------------\n",
            "Epoch 62, Train Accuracy: 0.8946888888888889 , Validation Accuracy: 0.7348 , TrainLoss: 1.410960110359192 , ValiLoss: 0.1726484384536743, \n",
            "Epoch 63/100\n",
            "----------------------------------------------------------------------------------------------------\n",
            "Epoch 63, Train Accuracy: 0.8983555555555556 , Validation Accuracy: 0.718 , TrainLoss: 1.4083052960395812 , ValiLoss: 0.17393159896850585, \n",
            "Epoch 64/100\n",
            "----------------------------------------------------------------------------------------------------\n",
            "Epoch 64, Train Accuracy: 0.8992888888888889 , Validation Accuracy: 0.7242 , TrainLoss: 1.4071724639892578 , ValiLoss: 0.17348174522399903, \n",
            "Epoch 65/100\n",
            "----------------------------------------------------------------------------------------------------\n",
            "Epoch 65, Train Accuracy: 0.9007555555555555 , Validation Accuracy: 0.7308 , TrainLoss: 1.4057110809326172 , ValiLoss: 0.17312868076324464, \n",
            "Epoch 66/100\n",
            "----------------------------------------------------------------------------------------------------\n",
            "Epoch 66, Train Accuracy: 0.9 , Validation Accuracy: 0.7246 , TrainLoss: 1.4068295443725587 , ValiLoss: 0.1735186265182495, \n",
            "Epoch 67/100\n",
            "----------------------------------------------------------------------------------------------------\n",
            "Epoch 67, Train Accuracy: 0.8998888888888888 , Validation Accuracy: 0.725 , TrainLoss: 1.406641118850708 , ValiLoss: 0.17345461795806885, \n",
            "Epoch 68/100\n",
            "----------------------------------------------------------------------------------------------------\n",
            "Epoch 68, Train Accuracy: 0.9002 , Validation Accuracy: 0.7284 , TrainLoss: 1.406185341873169 , ValiLoss: 0.17312754667282104, \n",
            "Epoch 69/100\n",
            "----------------------------------------------------------------------------------------------------\n",
            "Epoch 69, Train Accuracy: 0.8994222222222222 , Validation Accuracy: 0.7228 , TrainLoss: 1.4066494958114624 , ValiLoss: 0.17369598459243774, \n",
            "Epoch 70/100\n",
            "----------------------------------------------------------------------------------------------------\n",
            "Epoch 70, Train Accuracy: 0.9006888888888889 , Validation Accuracy: 0.7292 , TrainLoss: 1.4058760144233704 , ValiLoss: 0.17302198806762695, \n",
            "Epoch 71/100\n",
            "----------------------------------------------------------------------------------------------------\n",
            "Epoch 71, Train Accuracy: 0.9016888888888889 , Validation Accuracy: 0.7266 , TrainLoss: 1.4048004225349426 , ValiLoss: 0.17330044441223144, \n",
            "Epoch 72/100\n",
            "----------------------------------------------------------------------------------------------------\n",
            "Epoch 72, Train Accuracy: 0.9022888888888889 , Validation Accuracy: 0.733 , TrainLoss: 1.4042258442497253 , ValiLoss: 0.17275117118835448, \n",
            "Epoch 73/100\n",
            "----------------------------------------------------------------------------------------------------\n",
            "Epoch 73, Train Accuracy: 0.9024222222222222 , Validation Accuracy: 0.7274 , TrainLoss: 1.4043825656700135 , ValiLoss: 0.1730467074394226, \n",
            "Epoch 74/100\n",
            "----------------------------------------------------------------------------------------------------\n",
            "Epoch 74, Train Accuracy: 0.9011777777777777 , Validation Accuracy: 0.7268 , TrainLoss: 1.4056231704711915 , ValiLoss: 0.17338755012512208, \n",
            "Epoch 75/100\n",
            "----------------------------------------------------------------------------------------------------\n",
            "Epoch 75, Train Accuracy: 0.9017111111111111 , Validation Accuracy: 0.7292 , TrainLoss: 1.4051008055114746 , ValiLoss: 0.1732465821647644, \n",
            "Epoch 76/100\n",
            "----------------------------------------------------------------------------------------------------\n",
            "Epoch 76, Train Accuracy: 0.9024 , Validation Accuracy: 0.727 , TrainLoss: 1.4043992433547974 , ValiLoss: 0.17342149366378784, \n",
            "Epoch 77/100\n",
            "----------------------------------------------------------------------------------------------------\n",
            "Epoch 77, Train Accuracy: 0.9028888888888889 , Validation Accuracy: 0.7266 , TrainLoss: 1.4042324408531188 , ValiLoss: 0.1735847350692749, \n",
            "Epoch 78/100\n",
            "----------------------------------------------------------------------------------------------------\n",
            "Epoch 78, Train Accuracy: 0.9020666666666667 , Validation Accuracy: 0.7264 , TrainLoss: 1.4044043445968628 , ValiLoss: 0.17351606775283812, \n",
            "Epoch 79/100\n",
            "----------------------------------------------------------------------------------------------------\n",
            "Epoch 79, Train Accuracy: 0.9029333333333334 , Validation Accuracy: 0.7224 , TrainLoss: 1.4042163204956055 , ValiLoss: 0.1737910085296631, \n",
            "Epoch 80/100\n",
            "----------------------------------------------------------------------------------------------------\n",
            "Epoch 80, Train Accuracy: 0.9026222222222222 , Validation Accuracy: 0.724 , TrainLoss: 1.4040535208511353 , ValiLoss: 0.17350546880722045, \n",
            "Epoch 81/100\n",
            "----------------------------------------------------------------------------------------------------\n",
            "Epoch 81, Train Accuracy: 0.9035555555555556 , Validation Accuracy: 0.7234 , TrainLoss: 1.4036054319000244 , ValiLoss: 0.17361681564331055, \n",
            "Epoch 82/100\n",
            "----------------------------------------------------------------------------------------------------\n",
            "Epoch 82, Train Accuracy: 0.9021333333333333 , Validation Accuracy: 0.7256 , TrainLoss: 1.4048420522499085 , ValiLoss: 0.17346770444869994, \n",
            "Epoch 83/100\n",
            "----------------------------------------------------------------------------------------------------\n",
            "Epoch 83, Train Accuracy: 0.9026666666666666 , Validation Accuracy: 0.7278 , TrainLoss: 1.403965368824005 , ValiLoss: 0.17331259813308716, \n",
            "Epoch 84/100\n",
            "----------------------------------------------------------------------------------------------------\n",
            "Epoch 84, Train Accuracy: 0.9046 , Validation Accuracy: 0.7234 , TrainLoss: 1.4030617419815063 , ValiLoss: 0.17376594593048095, \n",
            "Epoch 85/100\n",
            "----------------------------------------------------------------------------------------------------\n",
            "Epoch 85, Train Accuracy: 0.9046 , Validation Accuracy: 0.7254 , TrainLoss: 1.4027511066246032 , ValiLoss: 0.17348084203720093, \n",
            "Epoch 86/100\n",
            "----------------------------------------------------------------------------------------------------\n",
            "Epoch 86, Train Accuracy: 0.9026 , Validation Accuracy: 0.722 , TrainLoss: 1.404182612991333 , ValiLoss: 0.17394820760726928, \n",
            "Epoch 87/100\n",
            "----------------------------------------------------------------------------------------------------\n",
            "Epoch 87, Train Accuracy: 0.9035111111111112 , Validation Accuracy: 0.7276 , TrainLoss: 1.4033872414970399 , ValiLoss: 0.17319028467178343, \n",
            "Epoch 88/100\n",
            "----------------------------------------------------------------------------------------------------\n",
            "Epoch 88, Train Accuracy: 0.905 , Validation Accuracy: 0.7256 , TrainLoss: 1.4025157285308838 , ValiLoss: 0.17339624166488649, \n",
            "Epoch 89/100\n",
            "----------------------------------------------------------------------------------------------------\n",
            "Epoch 89, Train Accuracy: 0.9035333333333333 , Validation Accuracy: 0.7226 , TrainLoss: 1.4033408550262452 , ValiLoss: 0.17372419597625732, \n",
            "Epoch 90/100\n",
            "----------------------------------------------------------------------------------------------------\n",
            "Epoch 90, Train Accuracy: 0.9047777777777778 , Validation Accuracy: 0.7344 , TrainLoss: 1.402719416885376 , ValiLoss: 0.17265380842208863, \n",
            "Epoch 91/100\n",
            "----------------------------------------------------------------------------------------------------\n",
            "Epoch 91, Train Accuracy: 0.9037111111111111 , Validation Accuracy: 0.7272 , TrainLoss: 1.4031760432052611 , ValiLoss: 0.1733854948043823, \n",
            "Epoch 92/100\n",
            "----------------------------------------------------------------------------------------------------\n",
            "Epoch 92, Train Accuracy: 0.9041555555555556 , Validation Accuracy: 0.7268 , TrainLoss: 1.402791353111267 , ValiLoss: 0.17338972507476808, \n",
            "Epoch 93/100\n",
            "----------------------------------------------------------------------------------------------------\n",
            "Epoch 93, Train Accuracy: 0.9042888888888889 , Validation Accuracy: 0.7248 , TrainLoss: 1.4025379121780395 , ValiLoss: 0.17359517009735106, \n",
            "Epoch 94/100\n",
            "----------------------------------------------------------------------------------------------------\n",
            "Epoch 94, Train Accuracy: 0.9037555555555555 , Validation Accuracy: 0.7252 , TrainLoss: 1.4034199374389649 , ValiLoss: 0.17340682931900026, \n",
            "Epoch 95/100\n",
            "----------------------------------------------------------------------------------------------------\n",
            "Epoch 95, Train Accuracy: 0.9028 , Validation Accuracy: 0.7272 , TrainLoss: 1.4035084996604918 , ValiLoss: 0.17334507823944093, \n",
            "Epoch 96/100\n",
            "----------------------------------------------------------------------------------------------------\n",
            "Epoch 96, Train Accuracy: 0.9046222222222222 , Validation Accuracy: 0.7294 , TrainLoss: 1.4023109864997865 , ValiLoss: 0.17323526361465455, \n",
            "Epoch 97/100\n",
            "----------------------------------------------------------------------------------------------------\n",
            "Epoch 97, Train Accuracy: 0.9052 , Validation Accuracy: 0.7224 , TrainLoss: 1.4019409539031982 , ValiLoss: 0.17377572298049926, \n",
            "Epoch 98/100\n",
            "----------------------------------------------------------------------------------------------------\n",
            "Epoch 98, Train Accuracy: 0.9052222222222223 , Validation Accuracy: 0.7254 , TrainLoss: 1.4020204870414734 , ValiLoss: 0.1735836707687378, \n",
            "Epoch 99/100\n",
            "----------------------------------------------------------------------------------------------------\n",
            "Epoch 99, Train Accuracy: 0.9046888888888889 , Validation Accuracy: 0.7364 , TrainLoss: 1.402011920261383 , ValiLoss: 0.17257003898620604, \n",
            "Epoch 100/100\n",
            "----------------------------------------------------------------------------------------------------\n",
            "Epoch 100, Train Accuracy: 0.9042666666666667 , Validation Accuracy: 0.7246 , TrainLoss: 1.402640872745514 , ValiLoss: 0.17362098514556884, \n"
          ],
          "name": "stdout"
        }
      ]
    },
    {
      "metadata": {
        "id": "isksN2PZb1_f",
        "colab_type": "code",
        "colab": {
          "base_uri": "https://localhost:8080/",
          "height": 51
        },
        "outputId": "89a1b2f0-5bf2-4ae0-d30c-34a4c42b5237"
      },
      "cell_type": "code",
      "source": [
        "def save_models():\n",
        "    torch.save(model.state_dict(), \"SimpleAdamWithNormDropout\")\n",
        "    print(\"Chekcpoint saved\")\n",
        "save_models() #Adam\n",
        "test(\"SimpleAdamWithNormDropout\")\n",
        "  "
      ],
      "execution_count": 15,
      "outputs": [
        {
          "output_type": "stream",
          "text": [
            "Chekcpoint saved\n"
          ],
          "name": "stdout"
        },
        {
          "output_type": "execute_result",
          "data": {
            "text/plain": [
              "0.7258"
            ]
          },
          "metadata": {
            "tags": []
          },
          "execution_count": 15
        }
      ]
    },
    {
      "metadata": {
        "id": "uQgZN-Kk40Zg",
        "colab_type": "code",
        "colab": {}
      },
      "cell_type": "code",
      "source": [
        "import matplotlib.pyplot as plt\n",
        "import numpy as np\n",
        "def imshow(img):\n",
        "  img = img / 2 + 0.5# unnormalize\n",
        "  npimg = img.cpu().numpy()\n",
        "  plt.imshow(np.transpose(npimg, (1, 2, 0)))\n",
        " "
      ],
      "execution_count": 0,
      "outputs": []
    },
    {
      "metadata": {
        "id": "jLPPKJtKxoMT",
        "colab_type": "code",
        "colab": {}
      },
      "cell_type": "code",
      "source": [
        "  import matplotlib.pyplot as plt\n",
        "  import numpy as np\n",
        "  def imshow(img):\n",
        "    img = img / 2 + 0.5# unnormalize\n",
        "    npimg = img.cpu().numpy()\n",
        "    plt.imshow(np.transpose(npimg, (1, 2, 0)))\n",
        "\n",
        "  def predict(path, img, label):\n",
        "    model = SimpleNet(num_classes=10)\n",
        "    model.load_state_dict(torch.load(path))\n",
        "    model.cuda()\n",
        "    \n",
        "    model.eval()\n",
        "    test_acc = 0.0\n",
        "    \n",
        "    if cuda_avail:\n",
        "        img = Variable(img.cuda())\n",
        "    outputs = model(img)\n",
        "    _, prediction = torch.max(outputs.data, 1)\n",
        "        \n",
        "    print(type(prediction[0]))\n",
        "    print(prediction[0], label, classes[label])\n",
        "    imshow(img[0, :, :, :])\n",
        "    plt.show()"
      ],
      "execution_count": 0,
      "outputs": []
    },
    {
      "metadata": {
        "id": "E5TGAIe-zUpT",
        "colab_type": "code",
        "outputId": "9c321a58-44f1-4873-d921-972d68058245",
        "colab": {
          "base_uri": "https://localhost:8080/",
          "height": 2201
        }
      },
      "cell_type": "code",
      "source": [
        "\n",
        "  classes = ['airplane','automobile','bird','cat','deer','dog','frog','horse','ship','truck']\n",
        " \n",
        "  predict(\"SimpleAdamWithNormDropout\" , testset[5][0].view(1, 3, 32 ,32), testset[5][1])\n",
        "  predict(\"SimpleAdamWithNormDropout\" , testset[4][0].view(1, 3, 32 ,32), testset[4][1])\n",
        "  predict(\"SimpleAdamWithNormDropout\" , testset[3][0].view(1, 3, 32 ,32), testset[3][1])\n",
        "  predict(\"SimpleAdamWithNormDropout\" , testset[2][0].view(1, 3, 32 ,32), testset[2][1])\n",
        "  predict(\"SimpleAdamWithNormDropout\" , testset[1][0].view(1, 3, 32 ,32), testset[1][1])\n",
        "  predict(\"SimpleAdamWithNormDropout\" , testset[0][0].view(1, 3, 32 ,32), testset[0][1])"
      ],
      "execution_count": 24,
      "outputs": [
        {
          "output_type": "stream",
          "text": [
            "<class 'torch.Tensor'>\n",
            "tensor(6, device='cuda:0') 6 frog\n"
          ],
          "name": "stdout"
        },
        {
          "output_type": "display_data",
          "data": {
            "image/png": "[encoded data removed]",
            "text/plain": [
              "<Figure size 576x396 with 1 Axes>"
            ]
          },
          "metadata": {
            "tags": []
          }
        },
        {
          "output_type": "stream",
          "text": [
            "<class 'torch.Tensor'>\n",
            "tensor(6, device='cuda:0') 6 frog\n"
          ],
          "name": "stdout"
        },
        {
          "output_type": "display_data",
          "data": {
            "image/png": "[encoded data removed]",
            "text/plain": [
              "<Figure size 576x396 with 1 Axes>"
            ]
          },
          "metadata": {
            "tags": []
          }
        },
        {
          "output_type": "stream",
          "text": [
            "<class 'torch.Tensor'>\n",
            "tensor(0, device='cuda:0') 0 airplane\n"
          ],
          "name": "stdout"
        },
        {
          "output_type": "display_data",
          "data": {
            "image/png": "[encoded data removed]",
            "text/plain": [
              "<Figure size 576x396 with 1 Axes>"
            ]
          },
          "metadata": {
            "tags": []
          }
        },
        {
          "output_type": "stream",
          "text": [
            "<class 'torch.Tensor'>\n",
            "tensor(8, device='cuda:0') 8 ship\n"
          ],
          "name": "stdout"
        },
        {
          "output_type": "display_data",
          "data": {
            "image/png": "[encoded data removed]",
            "text/plain": [
              "<Figure size 576x396 with 1 Axes>"
            ]
          },
          "metadata": {
            "tags": []
          }
        },
        {
          "output_type": "stream",
          "text": [
            "<class 'torch.Tensor'>\n",
            "tensor(8, device='cuda:0') 8 ship\n"
          ],
          "name": "stdout"
        },
        {
          "output_type": "display_data",
          "data": {
            "image/png": "[encoded data removed]",
            "text/plain": [
              "<Figure size 576x396 with 1 Axes>"
            ]
          },
          "metadata": {
            "tags": []
          }
        },
        {
          "output_type": "stream",
          "text": [
            "<class 'torch.Tensor'>\n",
            "tensor(3, device='cuda:0') 3 cat\n"
          ],
          "name": "stdout"
        },
        {
          "output_type": "display_data",
          "data": {
            "image/png": "[encoded data removed]",
            "text/plain": [
              "<Figure size 576x396 with 1 Axes>"
            ]
          },
          "metadata": {
            "tags": []
          }
        }
      ]
    },
    {
      "metadata": {
        "id": "LTqtkDLf6kGr",
        "colab_type": "code",
        "outputId": "74516f1b-8d4c-48df-bcd8-054bf58be1a4",
        "colab": {
          "base_uri": "https://localhost:8080/",
          "height": 34
        }
      },
      "cell_type": "code",
      "source": [
        "import torch, torchvision\n",
        "from torch.utils.data import DataLoader\n",
        "from torchvision.transforms import transforms\n",
        "train_transformations = transforms.Compose([\n",
        "    transforms.ToTensor(),\n",
        "    transforms.Normalize((0.5,0.5,0.5), (0.5,0.5,0.5))\n",
        "])\n",
        "test_transformations = transforms.Compose([\n",
        "    transforms.ToTensor(),\n",
        "    transforms.Normalize((0.5, 0.5, 0.5), (0.5, 0.5, 0.5))\n",
        "\n",
        "])\n",
        "testset = torchvision.datasets.CIFAR10(root='./data', train=False, download=True, transform=test_transformations)\n",
        "test_loader = DataLoader(testset, batch_size=128, shuffle=False, num_workers=4)"
      ],
      "execution_count": 1,
      "outputs": [
        {
          "output_type": "stream",
          "text": [
            "Files already downloaded and verified\n"
          ],
          "name": "stdout"
        }
      ]
    },
    {
      "metadata": {
        "id": "M3VJrrCNkLVF",
        "colab_type": "text"
      },
      "cell_type": "markdown",
      "source": [
        "Accordingg to previous result, we think stacking too many layers may not help in proving validation accuray. So in this model, we maintain only three convolution layer and one max pool layer after the first convolution layer.  And change the kernel size to 5. Plus, we also remove the last fc layer. Detailed model is commented in code. \n",
        "\n",
        "The result for this model is good, training accuracy at around 80% while validation accuracy is 73% on average(higher than our previous one). Although losing some training accuracy, the validation is more acceptable."
      ]
    },
    {
      "metadata": {
        "id": "V4j5Y4BjkKgb",
        "colab_type": "text"
      },
      "cell_type": "markdown",
      "source": [
        ""
      ]
    },
    {
      "metadata": {
        "id": "3boNH1qw4FtT",
        "colab_type": "code",
        "colab": {}
      },
      "cell_type": "code",
      "source": [
        "\n",
        "# Import needed packages\n",
        "import torch\n",
        "import torch.nn as nn\n",
        "\n",
        "\n",
        "class DifferentNet(nn.Module):\n",
        "    def __init__(self, num_classes=10):\n",
        "        super(DifferentNet, self).__init__()\n",
        "        \n",
        "        # 3 * 32 * 32 -> 32 * 30 * 30\n",
        "        self.conv1 = nn.Conv2d(3, 32, 5, padding=1, stride=1)\n",
        "        self.norm = nn.BatchNorm2d(32)\n",
        "        self.relu = nn.ReLU()\n",
        "\n",
        "        # pool layer with kernel size 2: 32 * 30 * 30 -> 32 * 15 * 15\n",
        "        self.pool = nn.MaxPool2d(kernel_size=2)\n",
        "        \n",
        "        # 32 * 15 * 15 -> 64 * 7 * 7\n",
        "        self.conv2 = nn.Conv2d(32, 64, 5, padding=1, stride=2)\n",
        "        self.norm2 = nn.BatchNorm2d(64)\n",
        "        self.relu = nn.ReLU()\n",
        "\n",
        "        # 64 * 8 * 8 -> 128 * 5 * 5\n",
        "        self.conv3 = nn.Conv2d(64, 128, 5, padding=1)\n",
        "        self.norm3 = nn.BatchNorm2d(128)\n",
        "        self.relu = nn.ReLU()\n",
        "        \n",
        "        self.dropout = nn.Dropout(0.5)  # drop 50% of the neuron\n",
        "        \n",
        "        self.fc1 = nn.Linear(in_features=128 * 5 * 5, out_features=64)\n",
        "        self.fc2 = nn.Linear(in_features=64, out_features=10)\n",
        "        self.softmax = nn.Softmax(dim=1)\n",
        "        \n",
        "        setattr(self, 'final', self.norm)\n",
        "        setattr(self, 'final2', self.norm2)\n",
        "        setattr(self, 'final3', self.norm3)\n",
        "\n",
        "    def forward(self, input):\n",
        "        output = self.conv1(input)\n",
        "        output = self.norm(output)\n",
        "        output = self.relu(output)\n",
        "        output = self.dropout(output)\n",
        "        output = self.pool(output)\n",
        "        \n",
        "        output = self.conv2(output)\n",
        "        output = self.norm2(output)\n",
        "        output = self.relu(output)\n",
        "        output = self.dropout(output)\n",
        "        \n",
        "        output = self.conv3(output)\n",
        "        output = self.norm3(output)\n",
        "        output = self.relu(output)\n",
        "        output = self.dropout(output)\n",
        "        \n",
        "        # reshape tensor\n",
        "        output = output.view(-1, 128 * 5 * 5)\n",
        "\n",
        "        output = self.fc1(output)\n",
        "        output = self.relu(output)\n",
        "        output = self.fc2(output)\n",
        "        output = self.softmax(output)\n",
        "        \n",
        "        return output"
      ],
      "execution_count": 0,
      "outputs": []
    },
    {
      "metadata": {
        "id": "SZ00n4ra9RLT",
        "colab_type": "code",
        "colab": {}
      },
      "cell_type": "code",
      "source": [
        "from torch.autograd import Variable\n",
        "def train(num_epochs):\n",
        "  \n",
        "    #Create a loder for the training set\n",
        "    trainvalset = torchvision.datasets.CIFAR10(root='./data', train=True,download=True, transform=train_transformations)\n",
        "    trainset, valset = torch.utils.data.random_split(trainvalset, [45000, 5000])\n",
        "    train_loader = DataLoader(trainset, batch_size=128, shuffle=True, num_workers=4)\n",
        "    val_loader = DataLoader(valset, batch_size=128, shuffle=True, num_workers=4)\n",
        "    for epoch in range(num_epochs):\n",
        "      print('Epoch {}/{}'.format(epoch + 1, num_epochs))\n",
        "      print('-' * 100)\n",
        "      model.train()\n",
        "      train_acc = 0.0\n",
        "      train_loss = 0.0\n",
        "      val_acc = 0.0\n",
        "      val_loss = 0.0\n",
        "      for i, (images, labels) in enumerate(train_loader):\n",
        "          \n",
        "          # Move images and labels to gpu if available\n",
        "          if cuda_avail:\n",
        "              images = Variable(images.cuda())\n",
        "              labels = Variable(labels.cuda())\n",
        "\n",
        "          # Clear all accumulated gradients\n",
        "          optimizer.zero_grad()\n",
        "            # Predict classes using images from the test set\n",
        "          outputs = model(images)\n",
        "            # Compute the loss based on the predictions and actual labels\n",
        "          loss = loss_fn(outputs, labels)\n",
        "            # Backpropagate the loss\n",
        "          loss.backward()\n",
        "\n",
        "            # Adjust parameters according to the computed gradients\n",
        "          optimizer.step()\n",
        "      \n",
        "          train_loss += loss.item() * images.size(0)\n",
        "          _, prediction = torch.max(outputs.data, 1)\n",
        "            \n",
        "          train_acc += torch.sum(prediction == labels.data)\n",
        "            \n",
        "      model.eval()\n",
        "      for i, (images, labels) in enumerate(val_loader):\n",
        "          if cuda_avail:\n",
        "                images = Variable(images.cuda())\n",
        "                labels = Variable(labels.cuda())\n",
        "\n",
        "          outputs = model(images)\n",
        "          \n",
        "          loss = loss_fn(outputs, labels)\n",
        "            \n",
        "          val_loss += loss.item() * images.size(0)\n",
        "          _, prediction = torch.max(outputs.data, 1)\n",
        "            \n",
        "          val_acc += torch.sum(prediction == labels.data)\n",
        "            \n",
        "        # Call the learning rate adjustment function\n",
        "      adjust_learning_rate(epoch)\n",
        "\n",
        "        # Compute the average acc and loss over training set and validation set\n",
        "      train_acc = float(train_acc) / 45000\n",
        "      val_acc = float(val_acc) / 5000\n",
        "      train_loss = float(train_loss) / 50000\n",
        "      val_loss = float(val_loss)/ 50000\n",
        "\n",
        "      print(\"Epoch {}, Train Accuracy: {} , Validation Accuracy: {} , TrainLoss: {} , ValiLoss: {}, \".format(epoch + 1, train_acc, val_acc, train_loss, val_loss))\n",
        "\n",
        "        "
      ],
      "execution_count": 0,
      "outputs": []
    },
    {
      "metadata": {
        "id": "d7jHPTyR5Wel",
        "colab_type": "code",
        "colab": {}
      },
      "cell_type": "code",
      "source": [
        "from torch.optim import Adam, SGD\n",
        "# Check if gpu support is available\n",
        "cuda_avail = torch.cuda.is_available()\n",
        "\n",
        "# Create model, optimizer and loss function\n",
        "model = DifferentNet(num_classes=10)\n",
        "\n",
        "#if cuda is available, move the model to the GPU\n",
        "if cuda_avail:\n",
        "    model.cuda()\n",
        "\n",
        "#Define the optimizer and loss function\n",
        "optimizer = Adam(model.parameters(), lr=0.001, weight_decay=0.0001)\n",
        "loss_fn = nn.CrossEntropyLoss()"
      ],
      "execution_count": 0,
      "outputs": []
    },
    {
      "metadata": {
        "id": "uYs1bdPl5mVT",
        "colab_type": "code",
        "outputId": "dd595d3d-90ce-4436-a724-9719d1873cc2",
        "colab": {
          "base_uri": "https://localhost:8080/",
          "height": 5154
        }
      },
      "cell_type": "code",
      "source": [
        "if __name__ == \"__main__\":\n",
        "    train(100)"
      ],
      "execution_count": 12,
      "outputs": [
        {
          "output_type": "stream",
          "text": [
            "Files already downloaded and verified\n",
            "Epoch 1/100\n",
            "----------------------------------------------------------------------------------------------------\n",
            "Epoch 1, Train Accuracy: 0.5157777777777778 , Validation Accuracy: 0.5076 , TrainLoss: 1.7486761983489991 , ValiLoss: 0.19497733604431153, \n",
            "Epoch 2/100\n",
            "----------------------------------------------------------------------------------------------------\n",
            "Epoch 2, Train Accuracy: 0.5555111111111111 , Validation Accuracy: 0.4848 , TrainLoss: 1.7132833312606812 , ValiLoss: 0.19701893854141236, \n",
            "Epoch 3/100\n",
            "----------------------------------------------------------------------------------------------------\n",
            "Epoch 3, Train Accuracy: 0.5815777777777777 , Validation Accuracy: 0.5458 , TrainLoss: 1.689544693584442 , ValiLoss: 0.19155294038772583, \n",
            "Epoch 4/100\n",
            "----------------------------------------------------------------------------------------------------\n",
            "Epoch 4, Train Accuracy: 0.6014 , Validation Accuracy: 0.572 , TrainLoss: 1.6707453503227234 , ValiLoss: 0.18893752502441405, \n",
            "Epoch 5/100\n",
            "----------------------------------------------------------------------------------------------------\n",
            "Epoch 5, Train Accuracy: 0.6203111111111111 , Validation Accuracy: 0.6008 , TrainLoss: 1.6564977062988282 , ValiLoss: 0.18587176694869995, \n",
            "Epoch 6/100\n",
            "----------------------------------------------------------------------------------------------------\n",
            "Epoch 6, Train Accuracy: 0.6316888888888889 , Validation Accuracy: 0.5814 , TrainLoss: 1.6450088186073304 , ValiLoss: 0.18792015953063965, \n",
            "Epoch 7/100\n",
            "----------------------------------------------------------------------------------------------------\n",
            "Epoch 7, Train Accuracy: 0.6439555555555555 , Validation Accuracy: 0.6222 , TrainLoss: 1.635229453792572 , ValiLoss: 0.1836617526435852, \n",
            "Epoch 8/100\n",
            "----------------------------------------------------------------------------------------------------\n",
            "Epoch 8, Train Accuracy: 0.6551333333333333 , Validation Accuracy: 0.6034 , TrainLoss: 1.6260194573402404 , ValiLoss: 0.18562137762069703, \n",
            "Epoch 9/100\n",
            "----------------------------------------------------------------------------------------------------\n",
            "Epoch 9, Train Accuracy: 0.6612888888888889 , Validation Accuracy: 0.6132 , TrainLoss: 1.619145878047943 , ValiLoss: 0.18497095405578615, \n",
            "Epoch 10/100\n",
            "----------------------------------------------------------------------------------------------------\n",
            "Epoch 10, Train Accuracy: 0.6683111111111111 , Validation Accuracy: 0.6098 , TrainLoss: 1.6131088702201843 , ValiLoss: 0.18468825565338134, \n",
            "Epoch 11/100\n",
            "----------------------------------------------------------------------------------------------------\n",
            "Epoch 11, Train Accuracy: 0.6779777777777778 , Validation Accuracy: 0.6274 , TrainLoss: 1.6047703561973572 , ValiLoss: 0.1832151335144043, \n",
            "Epoch 12/100\n",
            "----------------------------------------------------------------------------------------------------\n",
            "Epoch 12, Train Accuracy: 0.6817333333333333 , Validation Accuracy: 0.6588 , TrainLoss: 1.6007916876983643 , ValiLoss: 0.18015199975967408, \n",
            "Epoch 13/100\n",
            "----------------------------------------------------------------------------------------------------\n",
            "Epoch 13, Train Accuracy: 0.6902222222222222 , Validation Accuracy: 0.6656 , TrainLoss: 1.5931859958457946 , ValiLoss: 0.17945938241958617, \n",
            "Epoch 14/100\n",
            "----------------------------------------------------------------------------------------------------\n",
            "Epoch 14, Train Accuracy: 0.6924222222222223 , Validation Accuracy: 0.618 , TrainLoss: 1.5909067058753967 , ValiLoss: 0.18407323818206786, \n",
            "Epoch 15/100\n",
            "----------------------------------------------------------------------------------------------------\n",
            "Epoch 15, Train Accuracy: 0.6982444444444444 , Validation Accuracy: 0.6508 , TrainLoss: 1.5861632829475403 , ValiLoss: 0.1810533164024353, \n",
            "Epoch 16/100\n",
            "----------------------------------------------------------------------------------------------------\n",
            "Epoch 16, Train Accuracy: 0.7023333333333334 , Validation Accuracy: 0.6552 , TrainLoss: 1.5830242278289794 , ValiLoss: 0.18025293760299682, \n",
            "Epoch 17/100\n",
            "----------------------------------------------------------------------------------------------------\n",
            "Epoch 17, Train Accuracy: 0.7042222222222222 , Validation Accuracy: 0.6578 , TrainLoss: 1.5808385340118407 , ValiLoss: 0.1803988387298584, \n",
            "Epoch 18/100\n",
            "----------------------------------------------------------------------------------------------------\n",
            "Epoch 18, Train Accuracy: 0.7101555555555555 , Validation Accuracy: 0.7 , TrainLoss: 1.575229259109497 , ValiLoss: 0.17634953189849853, \n",
            "Epoch 19/100\n",
            "----------------------------------------------------------------------------------------------------\n",
            "Epoch 19, Train Accuracy: 0.7108444444444444 , Validation Accuracy: 0.6622 , TrainLoss: 1.5743183486366272 , ValiLoss: 0.1798243223953247, \n",
            "Epoch 20/100\n",
            "----------------------------------------------------------------------------------------------------\n",
            "Epoch 20, Train Accuracy: 0.7130888888888889 , Validation Accuracy: 0.6728 , TrainLoss: 1.5732279222679137 , ValiLoss: 0.1789637654876709, \n",
            "Epoch 21/100\n",
            "----------------------------------------------------------------------------------------------------\n",
            "Epoch 21, Train Accuracy: 0.7178 , Validation Accuracy: 0.6646 , TrainLoss: 1.5691237723350524 , ValiLoss: 0.17977626625061036, \n",
            "Epoch 22/100\n",
            "----------------------------------------------------------------------------------------------------\n",
            "Epoch 22, Train Accuracy: 0.7232888888888889 , Validation Accuracy: 0.6702 , TrainLoss: 1.5647738460731506 , ValiLoss: 0.17894851119995117, \n",
            "Epoch 23/100\n",
            "----------------------------------------------------------------------------------------------------\n",
            "Epoch 23, Train Accuracy: 0.7181555555555555 , Validation Accuracy: 0.6608 , TrainLoss: 1.568151526412964 , ValiLoss: 0.18031581092834473, \n",
            "Epoch 24/100\n",
            "----------------------------------------------------------------------------------------------------\n",
            "Epoch 24, Train Accuracy: 0.7264 , Validation Accuracy: 0.6974 , TrainLoss: 1.5611791506195067 , ValiLoss: 0.17636022724151612, \n",
            "Epoch 25/100\n",
            "----------------------------------------------------------------------------------------------------\n",
            "Epoch 25, Train Accuracy: 0.7265111111111111 , Validation Accuracy: 0.6894 , TrainLoss: 1.560801957950592 , ValiLoss: 0.17704989835739135, \n",
            "Epoch 26/100\n",
            "----------------------------------------------------------------------------------------------------\n",
            "Epoch 26, Train Accuracy: 0.7268666666666667 , Validation Accuracy: 0.7056 , TrainLoss: 1.560633439693451 , ValiLoss: 0.17594566436767578, \n",
            "Epoch 27/100\n",
            "----------------------------------------------------------------------------------------------------\n",
            "Epoch 27, Train Accuracy: 0.7332 , Validation Accuracy: 0.6784 , TrainLoss: 1.5554481867599488 , ValiLoss: 0.17813884983062744, \n",
            "Epoch 28/100\n",
            "----------------------------------------------------------------------------------------------------\n",
            "Epoch 28, Train Accuracy: 0.7344 , Validation Accuracy: 0.703 , TrainLoss: 1.5541598234748841 , ValiLoss: 0.1757886703300476, \n",
            "Epoch 29/100\n",
            "----------------------------------------------------------------------------------------------------\n",
            "Epoch 29, Train Accuracy: 0.7357333333333334 , Validation Accuracy: 0.6696 , TrainLoss: 1.5527003574943543 , ValiLoss: 0.17899032901763917, \n",
            "Epoch 30/100\n",
            "----------------------------------------------------------------------------------------------------\n",
            "Epoch 30, Train Accuracy: 0.7361333333333333 , Validation Accuracy: 0.6824 , TrainLoss: 1.5531874538230896 , ValiLoss: 0.17801312910079956, \n",
            "Epoch 31/100\n",
            "----------------------------------------------------------------------------------------------------\n",
            "Epoch 31, Train Accuracy: 0.7378444444444444 , Validation Accuracy: 0.6918 , TrainLoss: 1.55197682554245 , ValiLoss: 0.1772047563934326, \n",
            "Epoch 32/100\n",
            "----------------------------------------------------------------------------------------------------\n",
            "Epoch 32, Train Accuracy: 0.7419333333333333 , Validation Accuracy: 0.7084 , TrainLoss: 1.5474590727424622 , ValiLoss: 0.17532877349853515, \n",
            "Epoch 33/100\n",
            "----------------------------------------------------------------------------------------------------\n",
            "Epoch 33, Train Accuracy: 0.7600666666666667 , Validation Accuracy: 0.72 , TrainLoss: 1.5312237689590453 , ValiLoss: 0.17430058162689208, \n",
            "Epoch 34/100\n",
            "----------------------------------------------------------------------------------------------------\n",
            "Epoch 34, Train Accuracy: 0.7703555555555556 , Validation Accuracy: 0.7268 , TrainLoss: 1.5231892379379273 , ValiLoss: 0.17343422384262086, \n",
            "Epoch 35/100\n",
            "----------------------------------------------------------------------------------------------------\n",
            "Epoch 35, Train Accuracy: 0.7708666666666667 , Validation Accuracy: 0.727 , TrainLoss: 1.522301213245392 , ValiLoss: 0.17353311878204344, \n",
            "Epoch 36/100\n",
            "----------------------------------------------------------------------------------------------------\n",
            "Epoch 36, Train Accuracy: 0.7733555555555556 , Validation Accuracy: 0.7196 , TrainLoss: 1.5191025693702698 , ValiLoss: 0.17418910634994506, \n",
            "Epoch 37/100\n",
            "----------------------------------------------------------------------------------------------------\n",
            "Epoch 37, Train Accuracy: 0.7772 , Validation Accuracy: 0.726 , TrainLoss: 1.517312451248169 , ValiLoss: 0.1737585535812378, \n",
            "Epoch 38/100\n",
            "----------------------------------------------------------------------------------------------------\n",
            "Epoch 38, Train Accuracy: 0.7770444444444444 , Validation Accuracy: 0.7266 , TrainLoss: 1.5171378576278687 , ValiLoss: 0.17347619441986084, \n",
            "Epoch 39/100\n",
            "----------------------------------------------------------------------------------------------------\n",
            "Epoch 39, Train Accuracy: 0.7784888888888889 , Validation Accuracy: 0.7238 , TrainLoss: 1.5162369556045532 , ValiLoss: 0.17366551860809326, \n",
            "Epoch 40/100\n",
            "----------------------------------------------------------------------------------------------------\n",
            "Epoch 40, Train Accuracy: 0.7812 , Validation Accuracy: 0.7384 , TrainLoss: 1.5132832483673095 , ValiLoss: 0.17247452072143554, \n",
            "Epoch 41/100\n",
            "----------------------------------------------------------------------------------------------------\n",
            "Epoch 41, Train Accuracy: 0.7798222222222222 , Validation Accuracy: 0.733 , TrainLoss: 1.5141407200241088 , ValiLoss: 0.17292018800735473, \n",
            "Epoch 42/100\n",
            "----------------------------------------------------------------------------------------------------\n",
            "Epoch 42, Train Accuracy: 0.7829555555555555 , Validation Accuracy: 0.7332 , TrainLoss: 1.512254747428894 , ValiLoss: 0.1730390658187866, \n",
            "Epoch 43/100\n",
            "----------------------------------------------------------------------------------------------------\n",
            "Epoch 43, Train Accuracy: 0.7838888888888889 , Validation Accuracy: 0.735 , TrainLoss: 1.5111012124252319 , ValiLoss: 0.17263642246246338, \n",
            "Epoch 44/100\n",
            "----------------------------------------------------------------------------------------------------\n",
            "Epoch 44, Train Accuracy: 0.7844 , Validation Accuracy: 0.7246 , TrainLoss: 1.5110123186302185 , ValiLoss: 0.17375665559768677, \n",
            "Epoch 45/100\n",
            "----------------------------------------------------------------------------------------------------\n",
            "Epoch 45, Train Accuracy: 0.7847111111111111 , Validation Accuracy: 0.719 , TrainLoss: 1.5099859273719787 , ValiLoss: 0.17395801164627075, \n",
            "Epoch 46/100\n",
            "----------------------------------------------------------------------------------------------------\n",
            "Epoch 46, Train Accuracy: 0.7878444444444445 , Validation Accuracy: 0.7344 , TrainLoss: 1.5071040437889098 , ValiLoss: 0.1727357199859619, \n",
            "Epoch 47/100\n",
            "----------------------------------------------------------------------------------------------------\n",
            "Epoch 47, Train Accuracy: 0.7871333333333334 , Validation Accuracy: 0.729 , TrainLoss: 1.5082153022003173 , ValiLoss: 0.17321775121688843, \n",
            "Epoch 48/100\n",
            "----------------------------------------------------------------------------------------------------\n",
            "Epoch 48, Train Accuracy: 0.7898222222222222 , Validation Accuracy: 0.7294 , TrainLoss: 1.505932271823883 , ValiLoss: 0.17338643447875976, \n",
            "Epoch 49/100\n",
            "----------------------------------------------------------------------------------------------------\n",
            "Epoch 49, Train Accuracy: 0.7902 , Validation Accuracy: 0.7302 , TrainLoss: 1.5055326773834228 , ValiLoss: 0.17310821117401123, \n",
            "Epoch 50/100\n",
            "----------------------------------------------------------------------------------------------------\n",
            "Epoch 50, Train Accuracy: 0.7912666666666667 , Validation Accuracy: 0.7314 , TrainLoss: 1.504866381893158 , ValiLoss: 0.17315704458236694, \n",
            "Epoch 51/100\n",
            "----------------------------------------------------------------------------------------------------\n",
            "Epoch 51, Train Accuracy: 0.7916444444444445 , Validation Accuracy: 0.7338 , TrainLoss: 1.5043952715682984 , ValiLoss: 0.17294595085144043, \n",
            "Epoch 52/100\n",
            "----------------------------------------------------------------------------------------------------\n",
            "Epoch 52, Train Accuracy: 0.7898888888888889 , Validation Accuracy: 0.7274 , TrainLoss: 1.5051409148597716 , ValiLoss: 0.17321247022628783, \n",
            "Epoch 53/100\n",
            "----------------------------------------------------------------------------------------------------\n",
            "Epoch 53, Train Accuracy: 0.7912888888888889 , Validation Accuracy: 0.7286 , TrainLoss: 1.505171115989685 , ValiLoss: 0.1730291303062439, \n",
            "Epoch 54/100\n",
            "----------------------------------------------------------------------------------------------------\n",
            "Epoch 54, Train Accuracy: 0.7942444444444444 , Validation Accuracy: 0.7308 , TrainLoss: 1.502166850299835 , ValiLoss: 0.17320944065093993, \n",
            "Epoch 55/100\n",
            "----------------------------------------------------------------------------------------------------\n",
            "Epoch 55, Train Accuracy: 0.7936222222222222 , Validation Accuracy: 0.727 , TrainLoss: 1.5022904150390626 , ValiLoss: 0.17338653764724732, \n",
            "Epoch 56/100\n",
            "----------------------------------------------------------------------------------------------------\n",
            "Epoch 56, Train Accuracy: 0.7936222222222222 , Validation Accuracy: 0.7348 , TrainLoss: 1.5021686123275757 , ValiLoss: 0.17274841926574708, \n",
            "Epoch 57/100\n",
            "----------------------------------------------------------------------------------------------------\n",
            "Epoch 57, Train Accuracy: 0.7941777777777778 , Validation Accuracy: 0.7364 , TrainLoss: 1.5018900559425354 , ValiLoss: 0.1726593312072754, \n",
            "Epoch 58/100\n",
            "----------------------------------------------------------------------------------------------------\n",
            "Epoch 58, Train Accuracy: 0.7962222222222223 , Validation Accuracy: 0.7384 , TrainLoss: 1.5003410573768616 , ValiLoss: 0.17236404205322264, \n",
            "Epoch 59/100\n",
            "----------------------------------------------------------------------------------------------------\n",
            "Epoch 59, Train Accuracy: 0.7995333333333333 , Validation Accuracy: 0.7284 , TrainLoss: 1.4980922875785827 , ValiLoss: 0.17310014760971068, \n",
            "Epoch 60/100\n",
            "----------------------------------------------------------------------------------------------------\n",
            "Epoch 60, Train Accuracy: 0.7978222222222222 , Validation Accuracy: 0.7294 , TrainLoss: 1.499164230003357 , ValiLoss: 0.17325839939117432, \n",
            "Epoch 61/100\n",
            "----------------------------------------------------------------------------------------------------\n",
            "Epoch 61, Train Accuracy: 0.7983333333333333 , Validation Accuracy: 0.737 , TrainLoss: 1.498830525932312 , ValiLoss: 0.17247843523025513, \n",
            "Epoch 62/100\n",
            "----------------------------------------------------------------------------------------------------\n",
            "Epoch 62, Train Accuracy: 0.7989333333333334 , Validation Accuracy: 0.7282 , TrainLoss: 1.4980453367233277 , ValiLoss: 0.17327736337661742, \n",
            "Epoch 63/100\n",
            "----------------------------------------------------------------------------------------------------\n",
            "Epoch 63, Train Accuracy: 0.7985777777777778 , Validation Accuracy: 0.7388 , TrainLoss: 1.4986131796073914 , ValiLoss: 0.17223983959197997, \n",
            "Epoch 64/100\n",
            "----------------------------------------------------------------------------------------------------\n",
            "Epoch 64, Train Accuracy: 0.8029333333333334 , Validation Accuracy: 0.734 , TrainLoss: 1.4952211891937255 , ValiLoss: 0.17258020919799805, \n",
            "Epoch 65/100\n",
            "----------------------------------------------------------------------------------------------------\n",
            "Epoch 65, Train Accuracy: 0.8012 , Validation Accuracy: 0.7302 , TrainLoss: 1.495509771194458 , ValiLoss: 0.1728543666267395, \n",
            "Epoch 66/100\n",
            "----------------------------------------------------------------------------------------------------\n",
            "Epoch 66, Train Accuracy: 0.8027777777777778 , Validation Accuracy: 0.7388 , TrainLoss: 1.495507116546631 , ValiLoss: 0.17221638416290283, \n",
            "Epoch 67/100\n",
            "----------------------------------------------------------------------------------------------------\n",
            "Epoch 67, Train Accuracy: 0.8014444444444444 , Validation Accuracy: 0.7308 , TrainLoss: 1.4959641423606873 , ValiLoss: 0.17308333145141602, \n",
            "Epoch 68/100\n",
            "----------------------------------------------------------------------------------------------------\n",
            "Epoch 68, Train Accuracy: 0.8041333333333334 , Validation Accuracy: 0.743 , TrainLoss: 1.4943557402610779 , ValiLoss: 0.171917342376709, \n",
            "Epoch 69/100\n",
            "----------------------------------------------------------------------------------------------------\n",
            "Epoch 69, Train Accuracy: 0.8042444444444444 , Validation Accuracy: 0.737 , TrainLoss: 1.4935966403579712 , ValiLoss: 0.17232924242019654, \n",
            "Epoch 70/100\n",
            "----------------------------------------------------------------------------------------------------\n",
            "Epoch 70, Train Accuracy: 0.8019111111111111 , Validation Accuracy: 0.7394 , TrainLoss: 1.4956960223388671 , ValiLoss: 0.17205945308685303, \n",
            "Epoch 71/100\n",
            "----------------------------------------------------------------------------------------------------\n",
            "Epoch 71, Train Accuracy: 0.8009777777777778 , Validation Accuracy: 0.7256 , TrainLoss: 1.496038284816742 , ValiLoss: 0.17353090610504152, \n",
            "Epoch 72/100\n",
            "----------------------------------------------------------------------------------------------------\n",
            "Epoch 72, Train Accuracy: 0.8038888888888889 , Validation Accuracy: 0.7318 , TrainLoss: 1.494198759880066 , ValiLoss: 0.17290001527786256, \n",
            "Epoch 73/100\n",
            "----------------------------------------------------------------------------------------------------\n",
            "Epoch 73, Train Accuracy: 0.8033777777777777 , Validation Accuracy: 0.7396 , TrainLoss: 1.494644837551117 , ValiLoss: 0.1722397897338867, \n",
            "Epoch 74/100\n",
            "----------------------------------------------------------------------------------------------------\n",
            "Epoch 74, Train Accuracy: 0.8036888888888889 , Validation Accuracy: 0.7414 , TrainLoss: 1.4940050263023377 , ValiLoss: 0.17193877498626708, \n",
            "Epoch 75/100\n",
            "----------------------------------------------------------------------------------------------------\n",
            "Epoch 75, Train Accuracy: 0.8038444444444445 , Validation Accuracy: 0.7322 , TrainLoss: 1.4939214812469483 , ValiLoss: 0.17289841676712037, \n",
            "Epoch 76/100\n",
            "----------------------------------------------------------------------------------------------------\n",
            "Epoch 76, Train Accuracy: 0.8029777777777778 , Validation Accuracy: 0.7346 , TrainLoss: 1.4941327186965943 , ValiLoss: 0.17268468172073365, \n",
            "Epoch 77/100\n",
            "----------------------------------------------------------------------------------------------------\n",
            "Epoch 77, Train Accuracy: 0.8046888888888889 , Validation Accuracy: 0.7336 , TrainLoss: 1.4940202994537353 , ValiLoss: 0.17261330434799194, \n",
            "Epoch 78/100\n",
            "----------------------------------------------------------------------------------------------------\n",
            "Epoch 78, Train Accuracy: 0.8041777777777778 , Validation Accuracy: 0.7324 , TrainLoss: 1.4940866995429993 , ValiLoss: 0.17293845085144044, \n",
            "Epoch 79/100\n",
            "----------------------------------------------------------------------------------------------------\n",
            "Epoch 79, Train Accuracy: 0.8034666666666667 , Validation Accuracy: 0.7404 , TrainLoss: 1.4944768745803834 , ValiLoss: 0.1720810866546631, \n",
            "Epoch 80/100\n",
            "----------------------------------------------------------------------------------------------------\n",
            "Epoch 80, Train Accuracy: 0.8051111111111111 , Validation Accuracy: 0.746 , TrainLoss: 1.4935408245849608 , ValiLoss: 0.17169179052352906, \n",
            "Epoch 81/100\n",
            "----------------------------------------------------------------------------------------------------\n",
            "Epoch 81, Train Accuracy: 0.8033111111111111 , Validation Accuracy: 0.7378 , TrainLoss: 1.4945156799507142 , ValiLoss: 0.1723398998641968, \n",
            "Epoch 82/100\n",
            "----------------------------------------------------------------------------------------------------\n",
            "Epoch 82, Train Accuracy: 0.8036888888888889 , Validation Accuracy: 0.7384 , TrainLoss: 1.4939699691963195 , ValiLoss: 0.17264244379043578, \n",
            "Epoch 83/100\n",
            "----------------------------------------------------------------------------------------------------\n",
            "Epoch 83, Train Accuracy: 0.8058444444444445 , Validation Accuracy: 0.7386 , TrainLoss: 1.4923101129722596 , ValiLoss: 0.17213638757705688, \n",
            "Epoch 84/100\n",
            "----------------------------------------------------------------------------------------------------\n",
            "Epoch 84, Train Accuracy: 0.8043333333333333 , Validation Accuracy: 0.7396 , TrainLoss: 1.4935354314804077 , ValiLoss: 0.17231658920288087, \n",
            "Epoch 85/100\n",
            "----------------------------------------------------------------------------------------------------\n",
            "Epoch 85, Train Accuracy: 0.8056444444444445 , Validation Accuracy: 0.7376 , TrainLoss: 1.4926253943634034 , ValiLoss: 0.1722586946487427, \n",
            "Epoch 86/100\n",
            "----------------------------------------------------------------------------------------------------\n",
            "Epoch 86, Train Accuracy: 0.8051333333333334 , Validation Accuracy: 0.7442 , TrainLoss: 1.4931273030090333 , ValiLoss: 0.17203029880523682, \n",
            "Epoch 87/100\n",
            "----------------------------------------------------------------------------------------------------\n",
            "Epoch 87, Train Accuracy: 0.8032444444444444 , Validation Accuracy: 0.7374 , TrainLoss: 1.494679812927246 , ValiLoss: 0.17224111547470092, \n",
            "Epoch 88/100\n",
            "----------------------------------------------------------------------------------------------------\n",
            "Epoch 88, Train Accuracy: 0.8048888888888889 , Validation Accuracy: 0.7346 , TrainLoss: 1.4926987216949463 , ValiLoss: 0.1725456607246399, \n",
            "Epoch 89/100\n",
            "----------------------------------------------------------------------------------------------------\n",
            "Epoch 89, Train Accuracy: 0.8048888888888889 , Validation Accuracy: 0.7322 , TrainLoss: 1.4926346043586731 , ValiLoss: 0.17295417501449584, \n",
            "Epoch 90/100\n",
            "----------------------------------------------------------------------------------------------------\n",
            "Epoch 90, Train Accuracy: 0.8048 , Validation Accuracy: 0.736 , TrainLoss: 1.4935476744270324 , ValiLoss: 0.17254900985717772, \n",
            "Epoch 91/100\n",
            "----------------------------------------------------------------------------------------------------\n",
            "Epoch 91, Train Accuracy: 0.8059111111111111 , Validation Accuracy: 0.7436 , TrainLoss: 1.49264019323349 , ValiLoss: 0.17183659271240234, \n",
            "Epoch 92/100\n",
            "----------------------------------------------------------------------------------------------------\n",
            "Epoch 92, Train Accuracy: 0.8029555555555555 , Validation Accuracy: 0.7394 , TrainLoss: 1.4937996362495423 , ValiLoss: 0.17213465280532836, \n",
            "Epoch 93/100\n",
            "----------------------------------------------------------------------------------------------------\n",
            "Epoch 93, Train Accuracy: 0.8062888888888889 , Validation Accuracy: 0.7358 , TrainLoss: 1.4927136638259888 , ValiLoss: 0.1725161102104187, \n",
            "Epoch 94/100\n",
            "----------------------------------------------------------------------------------------------------\n",
            "Epoch 94, Train Accuracy: 0.8063555555555556 , Validation Accuracy: 0.7458 , TrainLoss: 1.4919463146781922 , ValiLoss: 0.17165192415237426, \n",
            "Epoch 95/100\n",
            "----------------------------------------------------------------------------------------------------\n",
            "Epoch 95, Train Accuracy: 0.8060222222222222 , Validation Accuracy: 0.739 , TrainLoss: 1.49256921541214 , ValiLoss: 0.1723398329925537, \n",
            "Epoch 96/100\n",
            "----------------------------------------------------------------------------------------------------\n",
            "Epoch 96, Train Accuracy: 0.8071777777777778 , Validation Accuracy: 0.7386 , TrainLoss: 1.4913285362243653 , ValiLoss: 0.1723675435066223, \n",
            "Epoch 97/100\n",
            "----------------------------------------------------------------------------------------------------\n",
            "Epoch 97, Train Accuracy: 0.8066666666666666 , Validation Accuracy: 0.7348 , TrainLoss: 1.4914993377494812 , ValiLoss: 0.1725159916305542, \n",
            "Epoch 98/100\n",
            "----------------------------------------------------------------------------------------------------\n",
            "Epoch 98, Train Accuracy: 0.8057777777777778 , Validation Accuracy: 0.7338 , TrainLoss: 1.492643931465149 , ValiLoss: 0.17271771043777465, \n",
            "Epoch 99/100\n",
            "----------------------------------------------------------------------------------------------------\n",
            "Epoch 99, Train Accuracy: 0.8069777777777778 , Validation Accuracy: 0.7384 , TrainLoss: 1.4914723585891723 , ValiLoss: 0.17226313777923585, \n",
            "Epoch 100/100\n",
            "----------------------------------------------------------------------------------------------------\n",
            "Epoch 100, Train Accuracy: 0.8046888888888889 , Validation Accuracy: 0.7366 , TrainLoss: 1.4931790665435791 , ValiLoss: 0.17254515548706054, \n"
          ],
          "name": "stdout"
        }
      ]
    },
    {
      "metadata": {
        "id": "b-jdxojTI2Xe",
        "colab_type": "code",
        "colab": {}
      },
      "cell_type": "code",
      "source": [
        "def test(path):\n",
        "    model = DifferentNet(num_classes=10)\n",
        "    model.load_state_dict(torch.load(path))\n",
        "    model.cuda()\n",
        "    \n",
        "    model.eval()\n",
        "    test_acc = 0.0\n",
        "    for i, (images, labels) in enumerate(test_loader):\n",
        "\n",
        "        if cuda_avail:\n",
        "            images = Variable(images.cuda())\n",
        "            labels = Variable(labels.cuda())\n",
        "\n",
        "        # Predict classes using images from the test set\n",
        "        outputs = model(images)\n",
        "        _, prediction = torch.max(outputs.data, 1)\n",
        "        \n",
        "        test_acc += torch.sum(prediction == labels.data)\n",
        "#         imshow(images)\n",
        "    # Compute the average acc and loss over all 10000 test images\n",
        "    test_acc = float(test_acc) / 10000\n",
        "    \n",
        "    return test_acc"
      ],
      "execution_count": 0,
      "outputs": []
    },
    {
      "metadata": {
        "id": "IFBv2xQ-Ie5k",
        "colab_type": "code",
        "colab": {
          "base_uri": "https://localhost:8080/",
          "height": 51
        },
        "outputId": "03851e54-b170-4c69-d4e2-1c71548ae1a5"
      },
      "cell_type": "code",
      "source": [
        "def save_models():\n",
        "    torch.save(model.state_dict(), \"SimpleAdam2\")\n",
        "    print(\"Chekcpoint saved\")\n",
        "save_models() #Augmentation\n",
        "test(\"SimpleAdam2\")"
      ],
      "execution_count": 14,
      "outputs": [
        {
          "output_type": "stream",
          "text": [
            "Chekcpoint saved\n"
          ],
          "name": "stdout"
        },
        {
          "output_type": "execute_result",
          "data": {
            "text/plain": [
              "0.7355"
            ]
          },
          "metadata": {
            "tags": []
          },
          "execution_count": 14
        }
      ]
    },
    {
      "metadata": {
        "id": "fMNvS6_9nE3F",
        "colab_type": "code",
        "colab": {}
      },
      "cell_type": "code",
      "source": [
        "def predict(path, img, label):\n",
        "    model = DifferentNet(num_classes=10)\n",
        "    model.load_state_dict(torch.load(path))\n",
        "    model.cuda()\n",
        "    \n",
        "    model.eval()\n",
        "    test_acc = 0.0\n",
        "    \n",
        "    if cuda_avail:\n",
        "        img = Variable(img.cuda())\n",
        "    outputs = model(img)\n",
        "    _, prediction = torch.max(outputs.data, 1)\n",
        "        \n",
        "    print(type(prediction[0]))\n",
        "    print(prediction[0], label, classes[label])\n",
        "    imshow(img[0, :, :, :])\n",
        "    plt.show()\n",
        "  "
      ],
      "execution_count": 0,
      "outputs": []
    },
    {
      "metadata": {
        "id": "AX9phy0znI7p",
        "colab_type": "code",
        "colab": {
          "base_uri": "https://localhost:8080/",
          "height": 2201
        },
        "outputId": "53c797c8-0ddf-4f90-e0a9-338ca75c1393"
      },
      "cell_type": "code",
      "source": [
        "classes = ['airplane','automobile','bird','cat','deer','dog','frog','horse','ship','truck']\n",
        " \n",
        "predict(\"SimpleAdam2\" , testset[5][0].view(1, 3, 32 ,32), testset[5][1])\n",
        "predict(\"SimpleAdam2\" , testset[4][0].view(1, 3, 32 ,32), testset[4][1])\n",
        "predict(\"SimpleAdam2\" , testset[3][0].view(1, 3, 32 ,32), testset[3][1])\n",
        "predict(\"SimpleAdam2\" , testset[2][0].view(1, 3, 32 ,32), testset[2][1])\n",
        "predict(\"SimpleAdam2\" , testset[1][0].view(1, 3, 32 ,32), testset[1][1])\n",
        "predict(\"SimpleAdam2\" , testset[0][0].view(1, 3, 32 ,32), testset[0][1])"
      ],
      "execution_count": 22,
      "outputs": [
        {
          "output_type": "stream",
          "text": [
            "<class 'torch.Tensor'>\n",
            "tensor(6, device='cuda:0') 6 frog\n"
          ],
          "name": "stdout"
        },
        {
          "output_type": "display_data",
          "data": {
            "image/png": "[encoded data removed]",
            "text/plain": [
              "<Figure size 576x396 with 1 Axes>"
            ]
          },
          "metadata": {
            "tags": []
          }
        },
        {
          "output_type": "stream",
          "text": [
            "<class 'torch.Tensor'>\n",
            "tensor(6, device='cuda:0') 6 frog\n"
          ],
          "name": "stdout"
        },
        {
          "output_type": "display_data",
          "data": {
            "image/png": "[encoded data removed]",
            "text/plain": [
              "<Figure size 576x396 with 1 Axes>"
            ]
          },
          "metadata": {
            "tags": []
          }
        },
        {
          "output_type": "stream",
          "text": [
            "<class 'torch.Tensor'>\n",
            "tensor(0, device='cuda:0') 0 airplane\n"
          ],
          "name": "stdout"
        },
        {
          "output_type": "display_data",
          "data": {
            "image/png": "[encoded data removed]",
            "text/plain": [
              "<Figure size 576x396 with 1 Axes>"
            ]
          },
          "metadata": {
            "tags": []
          }
        },
        {
          "output_type": "stream",
          "text": [
            "<class 'torch.Tensor'>\n",
            "tensor(8, device='cuda:0') 8 ship\n"
          ],
          "name": "stdout"
        },
        {
          "output_type": "display_data",
          "data": {
            "image/png": "[encoded data removed]",
            "text/plain": [
              "<Figure size 576x396 with 1 Axes>"
            ]
          },
          "metadata": {
            "tags": []
          }
        },
        {
          "output_type": "stream",
          "text": [
            "<class 'torch.Tensor'>\n",
            "tensor(8, device='cuda:0') 8 ship\n"
          ],
          "name": "stdout"
        },
        {
          "output_type": "display_data",
          "data": {
            "image/png": "[encoded data removed]",
            "text/plain": [
              "<Figure size 576x396 with 1 Axes>"
            ]
          },
          "metadata": {
            "tags": []
          }
        },
        {
          "output_type": "stream",
          "text": [
            "<class 'torch.Tensor'>\n",
            "tensor(3, device='cuda:0') 3 cat\n"
          ],
          "name": "stdout"
        },
        {
          "output_type": "display_data",
          "data": {
            "image/png": "[encoded data removed]",
            "text/plain": [
              "<Figure size 576x396 with 1 Axes>"
            ]
          },
          "metadata": {
            "tags": []
          }
        }
      ]
    }
  ]
}